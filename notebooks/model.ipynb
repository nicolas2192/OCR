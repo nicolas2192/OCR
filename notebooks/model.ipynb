{
 "cells": [
  {
   "cell_type": "markdown",
   "metadata": {},
   "source": [
    "# Handwritten Text Recognition - OCR - CNN"
   ]
  },
  {
   "cell_type": "code",
   "execution_count": 2,
   "metadata": {},
   "outputs": [],
   "source": [
    "# Imports\n",
    "import numpy as np\n",
    "import matplotlib.pyplot as plt\n",
    "import os\n",
    "import cv2\n",
    "\n",
    "import random\n",
    "import time\n",
    "\n",
    "import tensorflow as tf\n",
    "from tensorflow.keras.models import Sequential, load_model\n",
    "from tensorflow.keras.layers import Dense, Flatten, Dropout, Activation, Conv2D, MaxPooling2D\n",
    "from tensorflow.keras.callbacks import TensorBoard"
   ]
  },
  {
   "cell_type": "code",
   "execution_count": 3,
   "metadata": {},
   "outputs": [],
   "source": [
    "# Data Acquisition\n",
    "DATA = \"../data/raw\"\n",
    "LETS = list(\"SINO\")\n",
    "NUM_LETS = len(LETS)\n",
    "IMG_SIZE = 100"
   ]
  },
  {
   "cell_type": "code",
   "execution_count": 4,
   "metadata": {},
   "outputs": [],
   "source": [
    "# Turns images into black and white\n",
    "def black_and_white(image, threshold):\n",
    "    gray = cv2.cvtColor(image, cv2.COLOR_BGR2GRAY)\n",
    "    thresh = cv2.threshold(gray, threshold, 255, cv2.THRESH_BINARY)[1]\n",
    "    kernel = np.ones((2,2))\n",
    "    closing = cv2.morphologyEx(thresh, cv2.MORPH_CLOSE, kernel)\n",
    "    return closing"
   ]
  },
  {
   "cell_type": "code",
   "execution_count": 8,
   "metadata": {},
   "outputs": [
    {
     "name": "stdout",
     "output_type": "stream",
     "text": [
      "120\n"
     ]
    }
   ],
   "source": [
    "# Loading all letter images, resizing and labeling them\n",
    "def load_letters(path, letters_list):\n",
    "    letters = []\n",
    "    # Looping through each letter folder\n",
    "    for let in letters_list:\n",
    "        images = os.listdir(os.path.join(path, let))\n",
    "        # Looping through each image within a specific letter folder\n",
    "        for pic in images:\n",
    "            # Reading letter image, turning it to gray scale and resizing it\n",
    "            img = cv2.imread(os.path.join(path, let, pic))\n",
    "            resized = cv2.resize(img, (IMG_SIZE, IMG_SIZE))\n",
    "            \n",
    "            thresh = black_and_white(resized, 120)\n",
    "            \n",
    "#             gray = cv2.cvtColor(img, cv2.COLOR_BGR2GRAY)\n",
    "\n",
    "#             _, threshold = cv2.threshold(resized, 120, 255, cv2.THRESH_BINARY)\n",
    "            \n",
    "            # Saving letter image array and target into a list\n",
    "            letters.append([thresh, letters_list.index(let)])\n",
    "            #letters.append([threshold, let])\n",
    "    \n",
    "    return letters\n",
    "        \n",
    "letters = load_letters(DATA, LETS)\n",
    "print(len(letters))"
   ]
  },
  {
   "cell_type": "code",
   "execution_count": 9,
   "metadata": {},
   "outputs": [
    {
     "name": "stdout",
     "output_type": "stream",
     "text": [
      "[['S', 30], ['I', 30], ['N', 30], ['O', 30]]\n"
     ]
    }
   ],
   "source": [
    "# Checking how many images were read per letter\n",
    "def check_loaded_data(loaded_letters_list, individual_letters_list):\n",
    "    y = [target[1] for target in loaded_letters_list]\n",
    "    res = [[letter, y.count(individual_letters_list.index(letter))] for letter in individual_letters_list]\n",
    "    #res = [[letter, y.count(letter)] for letter in individual_letters_list]\n",
    "    print(res)\n",
    "\n",
    "check_loaded_data(letters, LETS)"
   ]
  },
  {
   "cell_type": "code",
   "execution_count": 10,
   "metadata": {},
   "outputs": [
    {
     "name": "stdout",
     "output_type": "stream",
     "text": [
      "120\n"
     ]
    }
   ],
   "source": [
    "# Checking loaded images\n",
    "def shuffle(list_to_shuffle):\n",
    "    random.shuffle(list_to_shuffle)\n",
    "    return list_to_shuffle\n",
    "\n",
    "shuffled = shuffle(letters)\n",
    "print(len(shuffled))"
   ]
  },
  {
   "cell_type": "code",
   "execution_count": 11,
   "metadata": {},
   "outputs": [
    {
     "name": "stdout",
     "output_type": "stream",
     "text": [
      "120\n",
      "1\n",
      "[[255 255 255 ... 255 255 255]\n",
      " [255 255 255 ... 255 255 255]\n",
      " [255 255 255 ... 255 255 255]\n",
      " ...\n",
      " [255 255 255 ... 255 255 255]\n",
      " [255 255 255 ... 255 255 255]\n",
      " [255 255 255 ... 255 255 255]]\n"
     ]
    }
   ],
   "source": [
    "# Splitting training data with its correspondent label\n",
    "def split_xy(training_data):\n",
    "    X, y = [], []\n",
    "    for features, label in training_data:\n",
    "        X.append(features)\n",
    "        y.append(label)\n",
    "\n",
    "    return X, y\n",
    "\n",
    "X, y = split_xy(shuffled)\n",
    "\n",
    "print(len(X))\n",
    "print(y[0])\n",
    "print(X[0])"
   ]
  },
  {
   "cell_type": "code",
   "execution_count": 12,
   "metadata": {
    "scrolled": true
   },
   "outputs": [
    {
     "name": "stdout",
     "output_type": "stream",
     "text": [
      "[[0. 1. 0. 0.]\n",
      " [0. 1. 0. 0.]\n",
      " [0. 0. 0. 1.]\n",
      " [1. 0. 0. 0.]\n",
      " [0. 0. 0. 1.]\n",
      " [0. 0. 0. 1.]\n",
      " [0. 0. 1. 0.]\n",
      " [0. 1. 0. 0.]\n",
      " [0. 0. 1. 0.]\n",
      " [1. 0. 0. 0.]\n",
      " [0. 1. 0. 0.]\n",
      " [0. 0. 0. 1.]\n",
      " [0. 0. 1. 0.]\n",
      " [1. 0. 0. 0.]\n",
      " [0. 0. 1. 0.]\n",
      " [0. 0. 1. 0.]\n",
      " [0. 0. 0. 1.]\n",
      " [0. 0. 1. 0.]\n",
      " [0. 0. 1. 0.]\n",
      " [0. 0. 1. 0.]\n",
      " [1. 0. 0. 0.]\n",
      " [0. 1. 0. 0.]\n",
      " [0. 1. 0. 0.]\n",
      " [0. 0. 0. 1.]\n",
      " [1. 0. 0. 0.]\n",
      " [0. 0. 1. 0.]\n",
      " [0. 0. 1. 0.]\n",
      " [0. 0. 1. 0.]\n",
      " [0. 1. 0. 0.]\n",
      " [0. 1. 0. 0.]\n",
      " [1. 0. 0. 0.]\n",
      " [0. 1. 0. 0.]\n",
      " [0. 0. 0. 1.]\n",
      " [1. 0. 0. 0.]\n",
      " [0. 0. 1. 0.]\n",
      " [1. 0. 0. 0.]\n",
      " [0. 0. 0. 1.]\n",
      " [0. 1. 0. 0.]\n",
      " [0. 1. 0. 0.]\n",
      " [0. 1. 0. 0.]\n",
      " [0. 0. 0. 1.]\n",
      " [0. 0. 0. 1.]\n",
      " [0. 0. 0. 1.]\n",
      " [1. 0. 0. 0.]\n",
      " [0. 0. 0. 1.]\n",
      " [1. 0. 0. 0.]\n",
      " [0. 1. 0. 0.]\n",
      " [1. 0. 0. 0.]\n",
      " [0. 1. 0. 0.]\n",
      " [0. 0. 1. 0.]\n",
      " [0. 0. 0. 1.]\n",
      " [0. 1. 0. 0.]\n",
      " [0. 0. 0. 1.]\n",
      " [1. 0. 0. 0.]\n",
      " [1. 0. 0. 0.]\n",
      " [0. 1. 0. 0.]\n",
      " [0. 0. 0. 1.]\n",
      " [1. 0. 0. 0.]\n",
      " [0. 1. 0. 0.]\n",
      " [0. 1. 0. 0.]\n",
      " [0. 0. 1. 0.]\n",
      " [0. 0. 1. 0.]\n",
      " [0. 0. 1. 0.]\n",
      " [0. 1. 0. 0.]\n",
      " [0. 0. 1. 0.]\n",
      " [1. 0. 0. 0.]\n",
      " [0. 0. 1. 0.]\n",
      " [0. 0. 1. 0.]\n",
      " [0. 0. 0. 1.]\n",
      " [0. 0. 1. 0.]\n",
      " [1. 0. 0. 0.]\n",
      " [1. 0. 0. 0.]\n",
      " [1. 0. 0. 0.]\n",
      " [0. 0. 0. 1.]\n",
      " [0. 0. 1. 0.]\n",
      " [0. 0. 0. 1.]\n",
      " [0. 0. 0. 1.]\n",
      " [1. 0. 0. 0.]\n",
      " [0. 0. 0. 1.]\n",
      " [0. 0. 0. 1.]\n",
      " [0. 0. 1. 0.]\n",
      " [0. 0. 1. 0.]\n",
      " [1. 0. 0. 0.]\n",
      " [0. 1. 0. 0.]\n",
      " [0. 0. 0. 1.]\n",
      " [1. 0. 0. 0.]\n",
      " [0. 0. 0. 1.]\n",
      " [0. 1. 0. 0.]\n",
      " [0. 1. 0. 0.]\n",
      " [0. 0. 1. 0.]\n",
      " [0. 0. 0. 1.]\n",
      " [0. 0. 1. 0.]\n",
      " [1. 0. 0. 0.]\n",
      " [0. 1. 0. 0.]\n",
      " [0. 0. 0. 1.]\n",
      " [0. 1. 0. 0.]\n",
      " [1. 0. 0. 0.]\n",
      " [0. 0. 1. 0.]\n",
      " [0. 1. 0. 0.]\n",
      " [0. 0. 0. 1.]\n",
      " [1. 0. 0. 0.]\n",
      " [1. 0. 0. 0.]\n",
      " [0. 0. 1. 0.]\n",
      " [0. 0. 1. 0.]\n",
      " [0. 0. 1. 0.]\n",
      " [0. 1. 0. 0.]\n",
      " [0. 0. 0. 1.]\n",
      " [0. 1. 0. 0.]\n",
      " [0. 1. 0. 0.]\n",
      " [1. 0. 0. 0.]\n",
      " [1. 0. 0. 0.]\n",
      " [0. 0. 0. 1.]\n",
      " [0. 1. 0. 0.]\n",
      " [1. 0. 0. 0.]\n",
      " [1. 0. 0. 0.]\n",
      " [0. 0. 1. 0.]\n",
      " [1. 0. 0. 0.]\n",
      " [0. 0. 0. 1.]\n",
      " [0. 0. 0. 1.]\n",
      " [0. 1. 0. 0.]]\n",
      "(120, 4)\n"
     ]
    }
   ],
   "source": [
    "# Converting y list into a categorical array, 0 and 1\n",
    "y = tf.keras.utils.to_categorical(y, NUM_LETS)\n",
    "print(y)\n",
    "print(y.shape)"
   ]
  },
  {
   "cell_type": "code",
   "execution_count": 13,
   "metadata": {},
   "outputs": [
    {
     "name": "stdout",
     "output_type": "stream",
     "text": [
      "(120, 100, 100, 1) (120, 4)\n"
     ]
    }
   ],
   "source": [
    "# Turning lists into arrays\n",
    "#print(len(X), len(y))\n",
    "X = np.array(X).reshape(-1, IMG_SIZE, IMG_SIZE, 1) # 1 grayscale, 3 colored images\n",
    "#y = np.array(y)\n",
    "print(X.shape, y.shape)"
   ]
  },
  {
   "cell_type": "code",
   "execution_count": 14,
   "metadata": {},
   "outputs": [
    {
     "name": "stdout",
     "output_type": "stream",
     "text": [
      "(120, 100, 100, 1)\n"
     ]
    }
   ],
   "source": [
    "# Normalizing the training data\n",
    "X = tf.keras.utils.normalize(X, axis=1)\n",
    "print(X.shape)"
   ]
  },
  {
   "cell_type": "code",
   "execution_count": 15,
   "metadata": {
    "scrolled": true
   },
   "outputs": [
    {
     "name": "stdout",
     "output_type": "stream",
     "text": [
      "OCR-CNN-1586182912\n"
     ]
    }
   ],
   "source": [
    "# Model's name\n",
    "NAME = f\"OCR-CNN-{int(time.time())}\"\n",
    "print(NAME)\n",
    "\n",
    "# Model instantiation and layers definition\n",
    "model = Sequential() # instatiating the NN\n",
    "\n",
    "# Adding first 2D convolution layer\n",
    "model.add(Conv2D(64, (3,3), input_shape=X.shape[1:], activation=\"relu\")) # X.shape[1:] → (100, 100, 1)\n",
    "model.add(MaxPooling2D(pool_size=(2,2)))\n",
    "\n",
    "# Adding second 2D convolution layer\n",
    "model.add(Conv2D(64, (3,3), activation=\"relu\"))# don't have to specify input shape in additional layers.\n",
    "model.add(MaxPooling2D(pool_size=(2,2)))\n",
    "\n",
    "# Adding third 2D convolution layer\n",
    "model.add(Conv2D(64, (3,3), activation=\"relu\"))# don't have to specify input shape in additional layers.\n",
    "model.add(MaxPooling2D(pool_size=(2,2)))\n",
    "          \n",
    "# Adding flattened dense layer\n",
    "model.add(Flatten())\n",
    "          \n",
    "# Adding output layer, 4 unit, activation softmax\n",
    "model.add(Dense(NUM_LETS))\n",
    "model.add(Activation(\"softmax\"))\n",
    "\n",
    "# Setting up tensorboard logs\n",
    "tb = TensorBoard(log_dir=f\"../data/logs/{NAME}\")\n",
    "          \n",
    "# Model parameters\n",
    "model.compile(optimizer=\"adam\", loss=\"categorical_crossentropy\", metrics=[\"accuracy\"])"
   ]
  },
  {
   "cell_type": "code",
   "execution_count": 16,
   "metadata": {},
   "outputs": [
    {
     "name": "stdout",
     "output_type": "stream",
     "text": [
      "Model: \"sequential\"\n",
      "_________________________________________________________________\n",
      "Layer (type)                 Output Shape              Param #   \n",
      "=================================================================\n",
      "conv2d (Conv2D)              (None, 98, 98, 64)        640       \n",
      "_________________________________________________________________\n",
      "max_pooling2d (MaxPooling2D) (None, 49, 49, 64)        0         \n",
      "_________________________________________________________________\n",
      "conv2d_1 (Conv2D)            (None, 47, 47, 64)        36928     \n",
      "_________________________________________________________________\n",
      "max_pooling2d_1 (MaxPooling2 (None, 23, 23, 64)        0         \n",
      "_________________________________________________________________\n",
      "conv2d_2 (Conv2D)            (None, 21, 21, 64)        36928     \n",
      "_________________________________________________________________\n",
      "max_pooling2d_2 (MaxPooling2 (None, 10, 10, 64)        0         \n",
      "_________________________________________________________________\n",
      "flatten (Flatten)            (None, 6400)              0         \n",
      "_________________________________________________________________\n",
      "dense (Dense)                (None, 4)                 25604     \n",
      "_________________________________________________________________\n",
      "activation (Activation)      (None, 4)                 0         \n",
      "=================================================================\n",
      "Total params: 100,100\n",
      "Trainable params: 100,100\n",
      "Non-trainable params: 0\n",
      "_________________________________________________________________\n"
     ]
    }
   ],
   "source": [
    "model.summary()"
   ]
  },
  {
   "cell_type": "code",
   "execution_count": 17,
   "metadata": {},
   "outputs": [
    {
     "name": "stdout",
     "output_type": "stream",
     "text": [
      "Train on 96 samples, validate on 24 samples\n",
      "Epoch 1/10\n",
      "96/96 [==============================] - 2s 16ms/sample - loss: 1.3855 - accuracy: 0.2708 - val_loss: 1.3701 - val_accuracy: 0.4167\n",
      "Epoch 2/10\n",
      "96/96 [==============================] - 1s 10ms/sample - loss: 1.3283 - accuracy: 0.5208 - val_loss: 1.2752 - val_accuracy: 0.4583\n",
      "Epoch 3/10\n",
      "96/96 [==============================] - 1s 9ms/sample - loss: 1.0487 - accuracy: 0.7917 - val_loss: 0.9071 - val_accuracy: 0.7917\n",
      "Epoch 4/10\n",
      "96/96 [==============================] - 1s 10ms/sample - loss: 0.4525 - accuracy: 0.9583 - val_loss: 0.2962 - val_accuracy: 0.9167\n",
      "Epoch 5/10\n",
      "96/96 [==============================] - 1s 10ms/sample - loss: 0.1305 - accuracy: 0.9688 - val_loss: 0.1493 - val_accuracy: 0.9583\n",
      "Epoch 6/10\n",
      "96/96 [==============================] - 1s 9ms/sample - loss: 0.0555 - accuracy: 0.9792 - val_loss: 0.1712 - val_accuracy: 0.9583\n",
      "Epoch 7/10\n",
      "96/96 [==============================] - 1s 10ms/sample - loss: 0.0348 - accuracy: 0.9896 - val_loss: 0.1918 - val_accuracy: 0.9167\n",
      "Epoch 8/10\n",
      "96/96 [==============================] - 1s 10ms/sample - loss: 0.0121 - accuracy: 1.0000 - val_loss: 0.4128 - val_accuracy: 0.8333\n",
      "Epoch 9/10\n",
      "96/96 [==============================] - 1s 11ms/sample - loss: 0.0072 - accuracy: 1.0000 - val_loss: 0.2768 - val_accuracy: 0.9167\n",
      "Epoch 10/10\n",
      "96/96 [==============================] - 1s 10ms/sample - loss: 0.0049 - accuracy: 1.0000 - val_loss: 0.1966 - val_accuracy: 0.9167\n"
     ]
    }
   ],
   "source": [
    "# Model fitting\n",
    "hist = model.fit(X, y, batch_size=16, epochs=10, validation_split=0.2, callbacks=[tb])"
   ]
  },
  {
   "cell_type": "code",
   "execution_count": 18,
   "metadata": {},
   "outputs": [
    {
     "name": "stdout",
     "output_type": "stream",
     "text": [
      "120/120 [==============================] - 0s 3ms/sample - loss: 0.0419 - accuracy: 0.9833\n"
     ]
    }
   ],
   "source": [
    "loss, acc = model.evaluate(X, y)"
   ]
  },
  {
   "cell_type": "code",
   "execution_count": 19,
   "metadata": {},
   "outputs": [
    {
     "name": "stdout",
     "output_type": "stream",
     "text": [
      "Saved model to ../data/model/model.h5\n",
      "../data/model/model.h5\n",
      "Model loaded successfully\n"
     ]
    }
   ],
   "source": [
    "model_path = \"../data/model\"\n",
    "model_name = \"model\"\n",
    "# saving the model\n",
    "def save_model_h5(model, model_path, model_name):\n",
    "    model.save(os.path.join(model_path, f\"{model_name}.h5\"))\n",
    "    print(f\"Saved model to {model_path}/{model_name}.h5\")\n",
    "    \n",
    "# loading the model\n",
    "def load_model_h5(model_path, model_name):\n",
    "    try:\n",
    "        # Loading H5 file\n",
    "        print(os.path.join(model_path, f\"{model_name}.h5\"))\n",
    "        loaded_model = load_model(os.path.join(model_path, f\"{model_name}.h5\"))\n",
    "        print(\"Model loaded successfully\")\n",
    "        return loaded_model\n",
    "    except  Exception as e:\n",
    "        print(\"Model couldn't be loaded. Did you import keras load_model function?\")\n",
    "        \n",
    "\n",
    "save_model_h5(model, model_path, model_name)\n",
    "loaded_model = load_model_h5(model_path, model_name)"
   ]
  },
  {
   "cell_type": "code",
   "execution_count": 20,
   "metadata": {},
   "outputs": [
    {
     "data": {
      "text/plain": [
       "<matplotlib.image.AxesImage at 0x7fbf80ddbcd0>"
      ]
     },
     "execution_count": 20,
     "metadata": {},
     "output_type": "execute_result"
    },
    {
     "name": "stderr",
     "output_type": "stream",
     "text": [
      "/home/nicolas/miniconda3/envs/deep_envs/lib/python3.7/site-packages/matplotlib/text.py:1150: FutureWarning: elementwise comparison failed; returning scalar instead, but in the future will perform elementwise comparison\n",
      "  if s != self._text:\n"
     ]
    },
    {
     "data": {
      "text/plain": [
       "Text(0.5, 1.0, '[[1. 0. 0. 0.]]')"
      ]
     },
     "execution_count": 20,
     "metadata": {},
     "output_type": "execute_result"
    },
    {
     "data": {
      "image/png": "[encoded data removed]",
      "text/plain": [
       "<Figure size 432x288 with 1 Axes>"
      ]
     },
     "metadata": {
      "needs_background": "light"
     },
     "output_type": "display_data"
    },
    {
     "name": "stdout",
     "output_type": "stream",
     "text": [
      "(1, 100, 100, 1)\n"
     ]
    },
    {
     "data": {
      "text/plain": [
       "<matplotlib.image.AxesImage at 0x7fbfdb8a1410>"
      ]
     },
     "execution_count": 20,
     "metadata": {},
     "output_type": "execute_result"
    },
    {
     "data": {
      "text/plain": [
       "Text(0.5, 1.0, '[[0. 1. 0. 0.]]')"
      ]
     },
     "execution_count": 20,
     "metadata": {},
     "output_type": "execute_result"
    },
    {
     "data": {
      "image/png": "[encoded data removed]",
      "text/plain": [
       "<Figure size 432x288 with 1 Axes>"
      ]
     },
     "metadata": {
      "needs_background": "light"
     },
     "output_type": "display_data"
    },
    {
     "name": "stdout",
     "output_type": "stream",
     "text": [
      "(1, 100, 100, 1)\n"
     ]
    },
    {
     "data": {
      "text/plain": [
       "<matplotlib.image.AxesImage at 0x7fbfd84f9e90>"
      ]
     },
     "execution_count": 20,
     "metadata": {},
     "output_type": "execute_result"
    },
    {
     "data": {
      "text/plain": [
       "Text(0.5, 1.0, '[[0. 0. 1. 0.]]')"
      ]
     },
     "execution_count": 20,
     "metadata": {},
     "output_type": "execute_result"
    },
    {
     "data": {
      "image/png": "[encoded data removed]",
      "text/plain": [
       "<Figure size 432x288 with 1 Axes>"
      ]
     },
     "metadata": {
      "needs_background": "light"
     },
     "output_type": "display_data"
    },
    {
     "name": "stdout",
     "output_type": "stream",
     "text": [
      "(1, 100, 100, 1)\n"
     ]
    },
    {
     "data": {
      "text/plain": [
       "<matplotlib.image.AxesImage at 0x7fbf801c2110>"
      ]
     },
     "execution_count": 20,
     "metadata": {},
     "output_type": "execute_result"
    },
    {
     "data": {
      "text/plain": [
       "Text(0.5, 1.0, '[[0. 0. 0. 1.]]')"
      ]
     },
     "execution_count": 20,
     "metadata": {},
     "output_type": "execute_result"
    },
    {
     "data": {
      "image/png": "[encoded data removed]",
      "text/plain": [
       "<Figure size 432x288 with 1 Axes>"
      ]
     },
     "metadata": {
      "needs_background": "light"
     },
     "output_type": "display_data"
    },
    {
     "name": "stdout",
     "output_type": "stream",
     "text": [
      "(1, 100, 100, 1)\n"
     ]
    }
   ],
   "source": [
    "testpath = \"../data/test\"\n",
    "testimages = os.listdir(testpath)\n",
    "for test in testimages:\n",
    "    img = cv2.imread(os.path.join(testpath, test))\n",
    "    gray = cv2.cvtColor(img, cv2.COLOR_BGR2GRAY)\n",
    "    resized = cv2.resize(gray, (IMG_SIZE, IMG_SIZE))\n",
    "    _, threshold = cv2.threshold(resized, 130, 255, cv2.THRESH_BINARY)\n",
    "\n",
    "    plt.imshow(threshold, cmap=\"gray\")\n",
    "    \n",
    "    threshold = np.array(threshold).reshape(-1, IMG_SIZE, IMG_SIZE, 1)\n",
    "    \n",
    "    p = model.predict(threshold)\n",
    "    plt.title(p)\n",
    "    plt.show()\n",
    "    print(threshold.shape)"
   ]
  },
  {
   "cell_type": "code",
   "execution_count": null,
   "metadata": {},
   "outputs": [],
   "source": []
  },
  {
   "cell_type": "code",
   "execution_count": null,
   "metadata": {},
   "outputs": [],
   "source": []
  },
  {
   "cell_type": "code",
   "execution_count": null,
   "metadata": {},
   "outputs": [],
   "source": []
  }
 ],
 "metadata": {
  "kernelspec": {
   "display_name": "Python [conda env:deep_envs]",
   "language": "python",
   "name": "conda-env-deep_envs-py"
  },
  "language_info": {
   "codemirror_mode": {
    "name": "ipython",
    "version": 3
   },
   "file_extension": ".py",
   "mimetype": "text/x-python",
   "name": "python",
   "nbconvert_exporter": "python",
   "pygments_lexer": "ipython3",
   "version": "3.7.6"
  }
 },
 "nbformat": 4,
 "nbformat_minor": 2
}
