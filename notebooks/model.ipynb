{
 "cells": [
  {
   "cell_type": "markdown",
   "metadata": {},
   "source": [
    "# Handwritten Text Recognition - OCR - CNN"
   ]
  },
  {
   "cell_type": "code",
   "execution_count": 1,
   "metadata": {},
   "outputs": [
    {
     "name": "stderr",
     "output_type": "stream",
     "text": [
      "Using TensorFlow backend.\n"
     ]
    }
   ],
   "source": [
    "# Imports\n",
    "import numpy as np\n",
    "import matplotlib.pyplot as plt\n",
    "import os\n",
    "import cv2\n",
    "\n",
    "import random\n",
    "import time\n",
    "\n",
    "import tensorflow as tf\n",
    "from tensorflow.keras.models import Sequential, load_model\n",
    "from tensorflow.keras.layers import Dense, Flatten, Dropout, Activation, Conv2D, MaxPooling2D\n",
    "from tensorflow.keras.callbacks import TensorBoard\n",
    "\n",
    "from keras.preprocessing.image import load_img, save_img"
   ]
  },
  {
   "cell_type": "code",
   "execution_count": 2,
   "metadata": {},
   "outputs": [
    {
     "data": {
      "text/plain": [
       "'model_full26_800'"
      ]
     },
     "execution_count": 2,
     "metadata": {},
     "output_type": "execute_result"
    }
   ],
   "source": [
    "# Data Acquisition\n",
    "# DATA = \"../data/raw\"\n",
    "# LETS = list(\"SINO\")\n",
    "\n",
    "DATA = \"../data/ImageGenerator\"\n",
    "LETS = list(\"ABCDEFGHIJKLMNOPQRSTUVWXYZ\")\n",
    "NUM_LETS = len(LETS)\n",
    "IMG_SIZE = 100\n",
    "model_path = \"../data/model\"\n",
    "model_name = f\"model_full{NUM_LETS}_800\"\n",
    "model_name"
   ]
  },
  {
   "cell_type": "code",
   "execution_count": 3,
   "metadata": {},
   "outputs": [],
   "source": [
    "# Turns images into black and white\n",
    "def black_and_white(image, threshold):\n",
    "    gray = cv2.cvtColor(image, cv2.COLOR_BGR2GRAY)\n",
    "    thresh = cv2.threshold(gray, threshold, 255, cv2.THRESH_BINARY)[1]\n",
    "    #thresh = cv2.adaptiveThreshold(gray, 255, cv2.ADAPTIVE_THRESH_GAUSSIAN_C, cv2.THRESH_BINARY, threshold, 1)\n",
    "    kernel = np.ones((2,2))\n",
    "    closing = cv2.morphologyEx(thresh, cv2.MORPH_CLOSE, kernel)\n",
    "    return closing"
   ]
  },
  {
   "cell_type": "code",
   "execution_count": 4,
   "metadata": {},
   "outputs": [
    {
     "name": "stdout",
     "output_type": "stream",
     "text": [
      "Loading data...\n",
      "Total images: 20800\n",
      "20800\n"
     ]
    }
   ],
   "source": [
    "def load_letters(path, letters_list, img_size=100):\n",
    "    print(\"Loading data...\")\n",
    "    letters = []\n",
    "    # Looping through each letter folder\n",
    "    for let in letters_list:\n",
    "        images = os.listdir(os.path.join(path, let))\n",
    "        # Looping through each image within a specific letter folder\n",
    "        for pic in images:\n",
    "            # Reading, resizing and turning the image into grayscale\n",
    "            img = cv2.imread(os.path.join(path, let, pic))\n",
    "            resized = cv2.resize(img, (img_size, img_size))\n",
    "            \n",
    "            gblur = cv2.GaussianBlur(resized, (5,5), 0) # removes high frequency noise\n",
    "            \n",
    "            thresh = black_and_white(gblur, 120)\n",
    "            \n",
    "            \n",
    "#           if let == \"A\":\n",
    "#             cv2.imwrite(f\"{DATA}/{let}-{pic}\", thresh)\n",
    "                \n",
    "            # Saving letter image array and target into a list\n",
    "            letters.append([thresh, letters_list.index(let)])\n",
    "\n",
    "\n",
    "    print(f\"Total images: {len(letters)}\")\n",
    "    return letters\n",
    "        \n",
    "letters = load_letters(DATA, LETS, IMG_SIZE)\n",
    "print(len(letters))"
   ]
  },
  {
   "cell_type": "code",
   "execution_count": 5,
   "metadata": {},
   "outputs": [
    {
     "name": "stdout",
     "output_type": "stream",
     "text": [
      "26\n",
      "[['A', 800], ['B', 800], ['C', 800], ['D', 800], ['E', 800], ['F', 800], ['G', 800], ['H', 800], ['I', 800], ['J', 800], ['K', 800], ['L', 800], ['M', 800], ['N', 800], ['O', 800], ['P', 800], ['Q', 800], ['R', 800], ['S', 800], ['T', 800], ['U', 800], ['V', 800], ['W', 800], ['X', 800], ['Y', 800], ['Z', 800]]\n"
     ]
    }
   ],
   "source": [
    "# Checking how many images were read per letter\n",
    "def check_loaded_data(loaded_letters_list, individual_letters_list):\n",
    "    y = [target[1] for target in loaded_letters_list]\n",
    "    res = [[letter, y.count(individual_letters_list.index(letter))] for letter in individual_letters_list]\n",
    "    #res = [[letter, y.count(letter)] for letter in individual_letters_list]\n",
    "    print(len(res))\n",
    "    print(res)\n",
    "\n",
    "check_loaded_data(letters, LETS)"
   ]
  },
  {
   "cell_type": "code",
   "execution_count": 6,
   "metadata": {},
   "outputs": [
    {
     "name": "stdout",
     "output_type": "stream",
     "text": [
      "20800\n"
     ]
    }
   ],
   "source": [
    "# Checking loaded images\n",
    "def shuffle(list_to_shuffle):\n",
    "    random.shuffle(list_to_shuffle)\n",
    "    return list_to_shuffle\n",
    "\n",
    "shuffled = shuffle(letters)\n",
    "print(len(shuffled))"
   ]
  },
  {
   "cell_type": "code",
   "execution_count": 7,
   "metadata": {},
   "outputs": [
    {
     "name": "stdout",
     "output_type": "stream",
     "text": [
      "(20800, 100, 100, 1) (20800, 26)\n"
     ]
    }
   ],
   "source": [
    "def prep_data(training_data):\n",
    "    \"\"\"\n",
    "    Preparing the data that will be used to feed the model\n",
    "    :param training_data: \n",
    "    :return: \n",
    "    \"\"\"\n",
    "    X, y = [], []\n",
    "    # Splitting data into traning data (X) and its label or target (y)\n",
    "    for features, label in training_data:\n",
    "        X.append(features)\n",
    "        y.append(label)\n",
    "        \n",
    "    # Converting y list into a categorical array, 0 and 1. It will have as many columns as letters to train\n",
    "    y = tf.keras.utils.to_categorical(y, len(LETS))\n",
    "    \n",
    "    # Converting X list into a keras array ready to be used to train the model\n",
    "    X = np.array(X).reshape(-1, IMG_SIZE, IMG_SIZE, 1) # 1 grayscale\n",
    "    \n",
    "    # Normalizing training data\n",
    "    #X = tf.keras.utils.normalize(X, axis=1)\n",
    "    X = X/255\n",
    "    print(X.shape, y.shape)\n",
    "\n",
    "    return X, y\n",
    "\n",
    "X, y = prep_data(shuffled)"
   ]
  },
  {
   "cell_type": "code",
   "execution_count": 8,
   "metadata": {},
   "outputs": [
    {
     "data": {
      "text/plain": [
       "<matplotlib.image.AxesImage at 0x7f2789e88510>"
      ]
     },
     "execution_count": 8,
     "metadata": {},
     "output_type": "execute_result"
    },
    {
     "data": {
      "image/png": "[encoded data removed]",
      "text/plain": [
       "<Figure size 432x288 with 1 Axes>"
      ]
     },
     "metadata": {
      "needs_background": "light"
     },
     "output_type": "display_data"
    }
   ],
   "source": [
    "plt.imshow(X[0].reshape(100,100))"
   ]
  },
  {
   "cell_type": "code",
   "execution_count": 9,
   "metadata": {
    "scrolled": false
   },
   "outputs": [
    {
     "name": "stdout",
     "output_type": "stream",
     "text": [
      "OCR-CNN-1587506988\n",
      "Model: \"sequential\"\n",
      "_________________________________________________________________\n",
      "Layer (type)                 Output Shape              Param #   \n",
      "=================================================================\n",
      "conv2d (Conv2D)              (None, 98, 98, 64)        640       \n",
      "_________________________________________________________________\n",
      "max_pooling2d (MaxPooling2D) (None, 49, 49, 64)        0         \n",
      "_________________________________________________________________\n",
      "dropout (Dropout)            (None, 49, 49, 64)        0         \n",
      "_________________________________________________________________\n",
      "conv2d_1 (Conv2D)            (None, 47, 47, 64)        36928     \n",
      "_________________________________________________________________\n",
      "max_pooling2d_1 (MaxPooling2 (None, 23, 23, 64)        0         \n",
      "_________________________________________________________________\n",
      "dropout_1 (Dropout)          (None, 23, 23, 64)        0         \n",
      "_________________________________________________________________\n",
      "conv2d_2 (Conv2D)            (None, 21, 21, 64)        36928     \n",
      "_________________________________________________________________\n",
      "max_pooling2d_2 (MaxPooling2 (None, 10, 10, 64)        0         \n",
      "_________________________________________________________________\n",
      "dropout_2 (Dropout)          (None, 10, 10, 64)        0         \n",
      "_________________________________________________________________\n",
      "flatten (Flatten)            (None, 6400)              0         \n",
      "_________________________________________________________________\n",
      "dense (Dense)                (None, 26)                166426    \n",
      "=================================================================\n",
      "Total params: 240,922\n",
      "Trainable params: 240,922\n",
      "Non-trainable params: 0\n",
      "_________________________________________________________________\n",
      "Train on 16640 samples, validate on 4160 samples\n",
      "Epoch 1/5\n",
      "16640/16640 [==============================] - 207s 12ms/sample - loss: 0.5132 - accuracy: 0.8532 - val_loss: 0.0491 - val_accuracy: 0.9856\n",
      "Epoch 2/5\n",
      "16640/16640 [==============================] - 207s 12ms/sample - loss: 0.0349 - accuracy: 0.9895 - val_loss: 0.0350 - val_accuracy: 0.9885\n",
      "Epoch 3/5\n",
      "16640/16640 [==============================] - 207s 12ms/sample - loss: 0.0179 - accuracy: 0.9945 - val_loss: 0.0149 - val_accuracy: 0.9954\n",
      "Epoch 4/5\n",
      "16640/16640 [==============================] - 211s 13ms/sample - loss: 0.0135 - accuracy: 0.9957 - val_loss: 0.0150 - val_accuracy: 0.9962\n",
      "Epoch 5/5\n",
      "16640/16640 [==============================] - 209s 13ms/sample - loss: 0.0099 - accuracy: 0.9972 - val_loss: 0.0117 - val_accuracy: 0.9962\n"
     ]
    }
   ],
   "source": [
    "def model_setup(X, y, letters_list):\n",
    "\n",
    "    # Model's name\n",
    "    NAME = f\"OCR-CNN-{int(time.time())}\"\n",
    "    print(NAME)\n",
    "\n",
    "    # Model instantiation and layers definition\n",
    "    model = Sequential() # instatiating the NN\n",
    "\n",
    "    # Adding first 2D convolution layer\n",
    "    model.add(Conv2D(64, (3,3), input_shape=X.shape[1:], activation=\"relu\")) # X.shape[1:] → (100, 100, 1)\n",
    "    model.add(MaxPooling2D(pool_size=(2,2)))\n",
    "    model.add(Dropout(0.2))\n",
    "\n",
    "    # Adding second 2D convolution layer\n",
    "    model.add(Conv2D(64, (3,3), activation=\"relu\"))# don't have to specify input shape in additional layers.\n",
    "    model.add(MaxPooling2D(pool_size=(2,2)))\n",
    "    model.add(Dropout(0.2))\n",
    "\n",
    "    # Adding third 2D convolution layer\n",
    "    model.add(Conv2D(64, (3,3), activation=\"relu\"))# don't have to specify input shape in additional layers.\n",
    "    model.add(MaxPooling2D(pool_size=(2,2)))\n",
    "    model.add(Dropout(0.2))\n",
    "\n",
    "    # Flattening before passing it to the dense layer\n",
    "    model.add(Flatten())\n",
    "\n",
    "    # Adding output layer, as many units as letters there are, activation softmax\n",
    "    model.add(Dense(len(letters_list), activation=\"softmax\"))\n",
    "\n",
    "    # Setting up tensorboard logs\n",
    "    tb = TensorBoard(log_dir=f\"../data/logs/{NAME}\")\n",
    "\n",
    "    # Model parameters\n",
    "    model.compile(optimizer=\"adam\", loss=\"categorical_crossentropy\", metrics=[\"accuracy\"])\n",
    "    \n",
    "    # Model summary\n",
    "    model.summary()\n",
    "    \n",
    "    # Model fitting\n",
    "    hist = model.fit(X, y, batch_size=32, epochs=5, validation_split=0.2, callbacks=[tb])\n",
    "    \n",
    "    return model, hist\n",
    "    \n",
    "model, hist = model_setup(X, y, LETS)"
   ]
  },
  {
   "cell_type": "code",
   "execution_count": 11,
   "metadata": {},
   "outputs": [
    {
     "name": "stdout",
     "output_type": "stream",
     "text": [
      "Saved model to ../data/model/model_full26_800.h5\n"
     ]
    }
   ],
   "source": [
    "# saving the model\n",
    "def save_model_h5(model, model_path, model_name):\n",
    "    model.save(os.path.join(model_path, f\"{model_name}.h5\"))\n",
    "    print(f\"Saved model to {model_path}/{model_name}.h5\")\n",
    "    \n",
    "save_model_h5(model, model_path, model_name)"
   ]
  },
  {
   "cell_type": "code",
   "execution_count": 12,
   "metadata": {},
   "outputs": [
    {
     "name": "stdout",
     "output_type": "stream",
     "text": [
      "../data/model/model_full26_800.h5\n",
      "Model loaded successfully\n"
     ]
    }
   ],
   "source": [
    "# loading the model\n",
    "def load_model_h5(model_path, model_name):\n",
    "    try:\n",
    "        # Loading H5 file\n",
    "        print(os.path.join(model_path, f\"{model_name}.h5\"))\n",
    "        loaded_model = load_model(os.path.join(model_path, f\"{model_name}.h5\"))\n",
    "        print(\"Model loaded successfully\")\n",
    "        return loaded_model\n",
    "    except  Exception as e:\n",
    "        print(\"Model couldn't be loaded. Did you import keras load_model function?\")\n",
    "\n",
    "\n",
    "loaded_model = load_model_h5(model_path, model_name)"
   ]
  },
  {
   "cell_type": "code",
   "execution_count": 13,
   "metadata": {
    "scrolled": false
   },
   "outputs": [
    {
     "name": "stdout",
     "output_type": "stream",
     "text": [
      "Model perfomance chart was successfully saved at: model_full26_800-performance.png\n"
     ]
    },
    {
     "data": {
      "image/png": "[encoded data removed]",
      "text/plain": [
       "<Figure size 1080x360 with 2 Axes>"
      ]
     },
     "metadata": {
      "needs_background": "light"
     },
     "output_type": "display_data"
    }
   ],
   "source": [
    "def plot_performance(hist, model_name):\n",
    "\n",
    "    fig, axes = plt.subplots(1, 2, figsize=(15,5))\n",
    "    fig.suptitle(\"Model Performance Summary\", fontsize=18)\n",
    "    \n",
    "    x_ticks = np.arange(1, len(hist.history[\"loss\"]) + 1)\n",
    "    \n",
    "    label_font = {\"fontname\" : \"Arial\", \"fontsize\": 13}\n",
    "    title_font = {\"fontname\" : \"Arial\", \"fontsize\": 16}\n",
    "    \n",
    "    axes[0].set_title(\"Loss\", fontdict=title_font)\n",
    "    axes[0].set_xlabel(\"Epoch\", fontdict=label_font)\n",
    "    axes[0].set_xticks(np.arange(len(x_ticks)))\n",
    "    axes[0].set_xticklabels(x_ticks)\n",
    "    axes[0].plot(hist.history[\"loss\"], label=\"Train\")\n",
    "    axes[0].plot(hist.history[\"val_loss\"], label=\"Test\")\n",
    "    axes[0].grid(True, color=\"black\", linewidth=0.1)\n",
    "    axes[0].legend()\n",
    "\n",
    "    axes[1].set_title(\"Accuracy\", fontdict=title_font)\n",
    "    axes[1].set_xlabel(\"Epoch\", fontdict=label_font)\n",
    "    axes[1].set_xticks(np.arange(len(x_ticks)))\n",
    "    axes[1].set_xticklabels(x_ticks)\n",
    "    axes[1].plot(hist.history[\"accuracy\"], label=\"Train\")\n",
    "    axes[1].plot(hist.history[\"val_accuracy\"], label=\"Test\")\n",
    "    axes[1].legend(loc=4)\n",
    "    axes[1].grid(True, color=\"black\", linewidth=0.1)\n",
    "    \n",
    "    try:\n",
    "        plt.savefig(f\"{model_name}-performance.png\")\n",
    "        print(f\"Model perfomance chart was successfully saved at: {model_name}-performance.png\")\n",
    "    except Exception as e:\n",
    "        print(\"Error saving model chart\")\n",
    "\n",
    "plot_performance(hist, model_name)"
   ]
  },
  {
   "cell_type": "code",
   "execution_count": 14,
   "metadata": {},
   "outputs": [
    {
     "name": "stdout",
     "output_type": "stream",
     "text": [
      "20800/20800 [==============================] - 77s 4ms/sample - loss: 0.0037 - accuracy: 0.9988\n"
     ]
    }
   ],
   "source": [
    "loss, acc = model.evaluate(X, y)"
   ]
  },
  {
   "cell_type": "code",
   "execution_count": 19,
   "metadata": {},
   "outputs": [
    {
     "data": {
      "text/plain": [
       "array([0., 1., 0., 0., 0., 0., 0., 0., 0., 0., 0., 0., 0., 0., 0., 0., 0.,\n",
       "       0., 0., 0., 0., 0., 0., 0., 0., 0.], dtype=float32)"
      ]
     },
     "execution_count": 19,
     "metadata": {},
     "output_type": "execute_result"
    },
    {
     "data": {
      "text/plain": [
       "<matplotlib.image.AxesImage at 0x7f26205475d0>"
      ]
     },
     "execution_count": 19,
     "metadata": {},
     "output_type": "execute_result"
    },
    {
     "name": "stdout",
     "output_type": "stream",
     "text": [
      "['A', 'B', 'C', 'D', 'E', 'F', 'G', 'H', 'I', 'J', 'K', 'L', 'M', 'N', 'O', 'P', 'Q', 'R', 'S', 'T', 'U', 'V', 'W', 'X', 'Y', 'Z']\n"
     ]
    },
    {
     "data": {
      "image/png": "[encoded data removed]",
      "text/plain": [
       "<Figure size 432x288 with 1 Axes>"
      ]
     },
     "metadata": {
      "needs_background": "light"
     },
     "output_type": "display_data"
    }
   ],
   "source": [
    "to_test = 17\n",
    "y[to_test]\n",
    "plt.imshow(X[to_test][:,:,0], cmap=\"gray\")\n",
    "print(LETS)"
   ]
  },
  {
   "cell_type": "code",
   "execution_count": 20,
   "metadata": {},
   "outputs": [
    {
     "data": {
      "text/plain": [
       "(1, 100, 100, 1)"
      ]
     },
     "execution_count": 20,
     "metadata": {},
     "output_type": "execute_result"
    },
    {
     "data": {
      "text/plain": [
       "(100, 100, 1)"
      ]
     },
     "execution_count": 20,
     "metadata": {},
     "output_type": "execute_result"
    },
    {
     "data": {
      "text/plain": [
       "array([[2.9088342e-15, 9.9999964e-01, 1.4687594e-15, 9.7669286e-09,\n",
       "        2.9039816e-07, 2.4193119e-12, 8.9755350e-09, 4.3156902e-11,\n",
       "        3.8347574e-19, 3.9690462e-20, 9.2967904e-19, 6.6747069e-25,\n",
       "        2.0049615e-15, 1.9640285e-17, 8.6194607e-10, 1.4865350e-11,\n",
       "        1.0829110e-18, 3.3944150e-11, 1.3706461e-08, 2.4464345e-12,\n",
       "        3.3272135e-18, 1.5237502e-19, 3.4452083e-14, 4.2781096e-20,\n",
       "        4.4830397e-22, 6.3538225e-10]], dtype=float32)"
      ]
     },
     "execution_count": 20,
     "metadata": {},
     "output_type": "execute_result"
    },
    {
     "data": {
      "text/plain": [
       "1"
      ]
     },
     "execution_count": 20,
     "metadata": {},
     "output_type": "execute_result"
    },
    {
     "data": {
      "text/plain": [
       "0.99999964"
      ]
     },
     "execution_count": 20,
     "metadata": {},
     "output_type": "execute_result"
    },
    {
     "data": {
      "text/plain": [
       "'B'"
      ]
     },
     "execution_count": 20,
     "metadata": {},
     "output_type": "execute_result"
    }
   ],
   "source": [
    "train_to_predict = X[to_test].reshape(-1, IMG_SIZE, IMG_SIZE, 1)\n",
    "prediction = loaded_model.predict(X[to_test].reshape(-1, IMG_SIZE, IMG_SIZE, 1))\n",
    "train_to_predict.shape\n",
    "X[to_test].shape\n",
    "\n",
    "prediction\n",
    "np.argmax(prediction)\n",
    "prediction[0][np.argmax(prediction)]\n",
    "LETS[np.argmax(prediction)]"
   ]
  },
  {
   "cell_type": "code",
   "execution_count": null,
   "metadata": {},
   "outputs": [],
   "source": []
  },
  {
   "cell_type": "code",
   "execution_count": null,
   "metadata": {},
   "outputs": [],
   "source": []
  },
  {
   "cell_type": "code",
   "execution_count": null,
   "metadata": {},
   "outputs": [],
   "source": []
  },
  {
   "cell_type": "code",
   "execution_count": null,
   "metadata": {},
   "outputs": [],
   "source": []
  },
  {
   "cell_type": "code",
   "execution_count": null,
   "metadata": {},
   "outputs": [],
   "source": []
  },
  {
   "cell_type": "code",
   "execution_count": null,
   "metadata": {},
   "outputs": [],
   "source": []
  },
  {
   "cell_type": "code",
   "execution_count": null,
   "metadata": {},
   "outputs": [],
   "source": []
  },
  {
   "cell_type": "code",
   "execution_count": null,
   "metadata": {},
   "outputs": [],
   "source": []
  },
  {
   "cell_type": "code",
   "execution_count": 36,
   "metadata": {},
   "outputs": [
    {
     "ename": "NameError",
     "evalue": "name 'testpath' is not defined",
     "output_type": "error",
     "traceback": [
      "\u001b[0;31m---------------------------------------------------------------------------\u001b[0m",
      "\u001b[0;31mNameError\u001b[0m                                 Traceback (most recent call last)",
      "\u001b[0;32m<ipython-input-36-53737ea81408>\u001b[0m in \u001b[0;36m<module>\u001b[0;34m\u001b[0m\n\u001b[0;32m----> 1\u001b[0;31m \u001b[0mimg\u001b[0m \u001b[0;34m=\u001b[0m \u001b[0mcv2\u001b[0m\u001b[0;34m.\u001b[0m\u001b[0mimread\u001b[0m\u001b[0;34m(\u001b[0m\u001b[0mos\u001b[0m\u001b[0;34m.\u001b[0m\u001b[0mpath\u001b[0m\u001b[0;34m.\u001b[0m\u001b[0mjoin\u001b[0m\u001b[0;34m(\u001b[0m\u001b[0mtestpath\u001b[0m\u001b[0;34m,\u001b[0m \u001b[0mtest\u001b[0m\u001b[0;34m)\u001b[0m\u001b[0;34m)\u001b[0m\u001b[0;34m\u001b[0m\u001b[0;34m\u001b[0m\u001b[0m\n\u001b[0m\u001b[1;32m      2\u001b[0m \u001b[0mgray\u001b[0m \u001b[0;34m=\u001b[0m \u001b[0mcv2\u001b[0m\u001b[0;34m.\u001b[0m\u001b[0mcvtColor\u001b[0m\u001b[0;34m(\u001b[0m\u001b[0mimg\u001b[0m\u001b[0;34m,\u001b[0m \u001b[0mcv2\u001b[0m\u001b[0;34m.\u001b[0m\u001b[0mCOLOR_BGR2GRAY\u001b[0m\u001b[0;34m)\u001b[0m\u001b[0;34m\u001b[0m\u001b[0;34m\u001b[0m\u001b[0m\n\u001b[1;32m      3\u001b[0m \u001b[0mresized\u001b[0m \u001b[0;34m=\u001b[0m \u001b[0mcv2\u001b[0m\u001b[0;34m.\u001b[0m\u001b[0mresize\u001b[0m\u001b[0;34m(\u001b[0m\u001b[0mgray\u001b[0m\u001b[0;34m,\u001b[0m \u001b[0;34m(\u001b[0m\u001b[0mIMG_SIZE\u001b[0m\u001b[0;34m,\u001b[0m \u001b[0mIMG_SIZE\u001b[0m\u001b[0;34m)\u001b[0m\u001b[0;34m)\u001b[0m\u001b[0;34m\u001b[0m\u001b[0;34m\u001b[0m\u001b[0m\n\u001b[1;32m      4\u001b[0m \u001b[0m_\u001b[0m\u001b[0;34m,\u001b[0m \u001b[0mthreshold\u001b[0m \u001b[0;34m=\u001b[0m \u001b[0mcv2\u001b[0m\u001b[0;34m.\u001b[0m\u001b[0mthreshold\u001b[0m\u001b[0;34m(\u001b[0m\u001b[0mresized\u001b[0m\u001b[0;34m,\u001b[0m \u001b[0;36m130\u001b[0m\u001b[0;34m,\u001b[0m \u001b[0;36m255\u001b[0m\u001b[0;34m,\u001b[0m \u001b[0mcv2\u001b[0m\u001b[0;34m.\u001b[0m\u001b[0mTHRESH_BINARY\u001b[0m\u001b[0;34m)\u001b[0m\u001b[0;34m\u001b[0m\u001b[0;34m\u001b[0m\u001b[0m\n\u001b[1;32m      5\u001b[0m \u001b[0;34m\u001b[0m\u001b[0m\n",
      "\u001b[0;31mNameError\u001b[0m: name 'testpath' is not defined"
     ]
    }
   ],
   "source": [
    "img = cv2.imread(os.path.join(testpath, test))\n",
    "gray = cv2.cvtColor(img, cv2.COLOR_BGR2GRAY)\n",
    "resized = cv2.resize(gray, (IMG_SIZE, IMG_SIZE))\n",
    "_, threshold = cv2.threshold(resized, 130, 255, cv2.THRESH_BINARY)\n",
    "\n",
    "threshold = np.array(X[56]).reshape(-1, IMG_SIZE, IMG_SIZE, 1)\n",
    "\n",
    "plt.imshow(X[56][:,:,0], cmap=\"gray\")\n",
    "cv2.imwrite(\"btest.png\", X[56][:,:,0])\n",
    "p = loaded_model.predict(threshold)\n",
    "plt.title(p)\n",
    "plt.show()\n",
    "print(threshold.shape)"
   ]
  },
  {
   "cell_type": "code",
   "execution_count": null,
   "metadata": {},
   "outputs": [],
   "source": []
  },
  {
   "cell_type": "code",
   "execution_count": null,
   "metadata": {},
   "outputs": [],
   "source": [
    "img = load"
   ]
  },
  {
   "cell_type": "code",
   "execution_count": null,
   "metadata": {},
   "outputs": [],
   "source": []
  },
  {
   "cell_type": "code",
   "execution_count": null,
   "metadata": {},
   "outputs": [],
   "source": []
  },
  {
   "cell_type": "code",
   "execution_count": null,
   "metadata": {},
   "outputs": [],
   "source": []
  },
  {
   "cell_type": "code",
   "execution_count": 40,
   "metadata": {
    "scrolled": false
   },
   "outputs": [
    {
     "name": "stdout",
     "output_type": "stream",
     "text": [
      "(259, 267)\n",
      "B.png\n",
      "resized (100, 100)\n"
     ]
    },
    {
     "data": {
      "text/plain": [
       "<matplotlib.image.AxesImage at 0x7f6e0c350b90>"
      ]
     },
     "execution_count": 40,
     "metadata": {},
     "output_type": "execute_result"
    },
    {
     "name": "stdout",
     "output_type": "stream",
     "text": [
      "Thresh (100, 100)\n",
      "To predict (100, 100)\n",
      "[[0. 0. 0. 0. 0. 0. 0. 1.]]\n"
     ]
    },
    {
     "data": {
      "text/plain": [
       "<matplotlib.image.AxesImage at 0x7f6e0c30fb10>"
      ]
     },
     "execution_count": 40,
     "metadata": {},
     "output_type": "execute_result"
    },
    {
     "name": "stdout",
     "output_type": "stream",
     "text": [
      "(186, 166)\n",
      "A.png\n",
      "resized (100, 100)\n"
     ]
    },
    {
     "data": {
      "text/plain": [
       "<matplotlib.image.AxesImage at 0x7f6e0c30fe50>"
      ]
     },
     "execution_count": 40,
     "metadata": {},
     "output_type": "execute_result"
    },
    {
     "name": "stdout",
     "output_type": "stream",
     "text": [
      "Thresh (100, 100)\n",
      "To predict (100, 100)\n",
      "[[0. 0. 0. 0. 0. 1. 0. 0.]]\n"
     ]
    },
    {
     "data": {
      "text/plain": [
       "<matplotlib.image.AxesImage at 0x7f6e14c35fd0>"
      ]
     },
     "execution_count": 40,
     "metadata": {},
     "output_type": "execute_result"
    },
    {
     "name": "stdout",
     "output_type": "stream",
     "text": [
      "(146, 157)\n",
      "D.png\n",
      "resized (100, 100)\n"
     ]
    },
    {
     "data": {
      "text/plain": [
       "<matplotlib.image.AxesImage at 0x7f6e0c27a950>"
      ]
     },
     "execution_count": 40,
     "metadata": {},
     "output_type": "execute_result"
    },
    {
     "name": "stdout",
     "output_type": "stream",
     "text": [
      "Thresh (100, 100)\n",
      "To predict (100, 100)\n",
      "[[0. 0. 0. 0. 0. 0. 0. 1.]]\n"
     ]
    },
    {
     "data": {
      "text/plain": [
       "<matplotlib.image.AxesImage at 0x7f6e0c2c0c90>"
      ]
     },
     "execution_count": 40,
     "metadata": {},
     "output_type": "execute_result"
    },
    {
     "name": "stdout",
     "output_type": "stream",
     "text": [
      "(139, 146)\n",
      "C.png\n",
      "resized (100, 100)\n"
     ]
    },
    {
     "data": {
      "text/plain": [
       "<matplotlib.image.AxesImage at 0x7f6e0c30cbd0>"
      ]
     },
     "execution_count": 40,
     "metadata": {},
     "output_type": "execute_result"
    },
    {
     "name": "stdout",
     "output_type": "stream",
     "text": [
      "Thresh (100, 100)\n",
      "To predict (100, 100)\n",
      "[[0. 0. 0. 0. 0. 0. 0. 1.]]\n"
     ]
    },
    {
     "data": {
      "text/plain": [
       "<matplotlib.image.AxesImage at 0x7f6e14c35b50>"
      ]
     },
     "execution_count": 40,
     "metadata": {},
     "output_type": "execute_result"
    },
    {
     "data": {
      "image/png": "[encoded data removed]",
      "text/plain": [
       "<Figure size 432x288 with 1 Axes>"
      ]
     },
     "metadata": {
      "needs_background": "light"
     },
     "output_type": "display_data"
    }
   ],
   "source": [
    "testpath = \"../data/individual_abcd\"\n",
    "testimages = os.listdir(testpath)\n",
    "for test in testimages:\n",
    "    img = cv2.imread(os.path.join(testpath, test), 0)\n",
    "    print(img.shape)\n",
    "    print(test)\n",
    "#     gray = cv2.cvtColor(img, cv2.COLOR_BGR2GRAY)\n",
    "#     print(gray.shape)\n",
    "\n",
    "    resized = cv2.resize(img, (IMG_SIZE, IMG_SIZE))\n",
    "    print(\"resized\", resized.shape)\n",
    "\n",
    "    _, threshold = cv2.threshold(resized, 120, 255, cv2.THRESH_BINARY)\n",
    "    #resized = np.array(resized)\n",
    "    plt.imshow(threshold, cmap=\"gray\")\n",
    "    print(\"Thresh\", threshold.shape)\n",
    "    \n",
    "    to_predict = threshold.reshape(-1, IMG_SIZE, IMG_SIZE, 1)\n",
    "    \n",
    "    print(\"To predict\", to_predict[0][:,:,0].shape)\n",
    "    print(model.predict(to_predict))\n",
    "    \n",
    "    plt.imshow(to_predict[0][:,:,0], cmap=\"gray\")\n",
    "#     test_img = threshold.reshape(threshold.shape[0], threshold.shape[1], 1)\n",
    "#     print(\"Test image\", test_img.shape)\n",
    "    \n",
    "    \n",
    "#     img_to_predict = test_img.reshape(-1, IMG_SIZE, IMG_SIZE, 1)\n",
    "#     print(\"to predict\", img_to_predict.shape)\n",
    "    \n",
    "#     test2 = gray.reshape(-1, gray.shape[0], gray.shape[1], 1)\n",
    "#     print(test2.shape)\n",
    "# #     img_to_predict = threshold.reshape(-1, IMG_SIZE, IMG_SIZE, 1)\n",
    "    \n",
    "#     print(\"img_to_predict\", img_to_predict.shape)\n",
    "#     print(img_to_predict)\n",
    "    \n",
    "#     model.predict(img_to_predict)\n",
    "    \n",
    "\n",
    "#     plt.imshow(threshold, cmap=\"gray\")\n",
    "    \n",
    "#     threshold = threshold.reshape(-1, IMG_SIZE, IMG_SIZE, 1)\n",
    "#     print(\"Thresh2\", threshold.shape)\n",
    "#     p = model.predict(threshold)\n",
    "#     plt.title(p)\n",
    "#     plt.show()"
   ]
  },
  {
   "cell_type": "code",
   "execution_count": 55,
   "metadata": {},
   "outputs": [
    {
     "data": {
      "text/plain": [
       "(100, 100, 1)"
      ]
     },
     "execution_count": 55,
     "metadata": {},
     "output_type": "execute_result"
    },
    {
     "data": {
      "text/plain": [
       "(100, 100)"
      ]
     },
     "execution_count": 55,
     "metadata": {},
     "output_type": "execute_result"
    },
    {
     "data": {
      "text/plain": [
       "<matplotlib.image.AxesImage at 0x7f62ad86d5d0>"
      ]
     },
     "execution_count": 55,
     "metadata": {},
     "output_type": "execute_result"
    },
    {
     "data": {
      "text/plain": [
       "(1, 100, 100, 1)"
      ]
     },
     "execution_count": 55,
     "metadata": {},
     "output_type": "execute_result"
    },
    {
     "data": {
      "text/plain": [
       "array([[0., 1., 0., 0., 0., 0., 0., 0.]], dtype=float32)"
      ]
     },
     "execution_count": 55,
     "metadata": {},
     "output_type": "execute_result"
    },
    {
     "data": {
      "image/png": "[encoded data removed]",
      "text/plain": [
       "<Figure size 432x288 with 1 Axes>"
      ]
     },
     "metadata": {
      "needs_background": "light"
     },
     "output_type": "display_data"
    }
   ],
   "source": [
    "from PIL import Image\n",
    "from keras.preprocessing import image\n",
    "img_width, img_height = 100, 100\n",
    "\n",
    "#'../data/individual_abcd/A.png'\n",
    "\n",
    "img = image.load_img('btest.png', color_mode=\"grayscale\", target_size=(img_width, img_height))\n",
    "x = image.img_to_array(img)\n",
    "x.shape\n",
    "_, threshold = cv2.threshold(x[:,:,0], 120, 255, cv2.THRESH_BINARY)\n",
    "threshold.shape\n",
    "plt.imshow(threshold)\n",
    "x = np.expand_dims(x, axis=0)\n",
    "x.shape\n",
    "images = np.vstack([x])\n",
    "\n",
    "loaded_model.predict(images)\n",
    "# classes = model.predict_classes(images, batch_size=10)\n",
    "# print classes"
   ]
  },
  {
   "cell_type": "code",
   "execution_count": 90,
   "metadata": {},
   "outputs": [
    {
     "data": {
      "text/plain": [
       "(100, 100)"
      ]
     },
     "execution_count": 90,
     "metadata": {},
     "output_type": "execute_result"
    },
    {
     "data": {
      "text/plain": [
       "(1, 100, 100, 1)"
      ]
     },
     "execution_count": 90,
     "metadata": {},
     "output_type": "execute_result"
    },
    {
     "data": {
      "text/plain": [
       "<matplotlib.image.AxesImage at 0x7f62700e8bd0>"
      ]
     },
     "execution_count": 90,
     "metadata": {},
     "output_type": "execute_result"
    },
    {
     "data": {
      "text/plain": [
       "(100, 100, 1)"
      ]
     },
     "execution_count": 90,
     "metadata": {},
     "output_type": "execute_result"
    },
    {
     "data": {
      "text/plain": [
       "(1, 100, 100, 1)"
      ]
     },
     "execution_count": 90,
     "metadata": {},
     "output_type": "execute_result"
    },
    {
     "data": {
      "text/plain": [
       "array([[0., 1., 0., 0., 0., 0., 0., 0.]], dtype=float32)"
      ]
     },
     "execution_count": 90,
     "metadata": {},
     "output_type": "execute_result"
    },
    {
     "data": {
      "text/plain": [
       "array([[0., 1., 0., 0., 0., 0., 0., 0.]], dtype=float32)"
      ]
     },
     "execution_count": 90,
     "metadata": {},
     "output_type": "execute_result"
    },
    {
     "data": {
      "image/png": "[encoded data removed]",
      "text/plain": [
       "<Figure size 432x288 with 1 Axes>"
      ]
     },
     "metadata": {
      "needs_background": "light"
     },
     "output_type": "display_data"
    }
   ],
   "source": [
    "\n",
    "img = image.load_img('btest.png', color_mode=\"grayscale\")\n",
    "img = image.img_to_array(img)\n",
    "\n",
    "_, threshold = cv2.threshold(img[:,:,0], 120, 255, cv2.THRESH_BINARY)\n",
    "threshold.shape\n",
    "img_to_predict = threshold.reshape(-1, IMG_SIZE, IMG_SIZE, 1)\n",
    "img_to_predict.shape\n",
    "plt.imshow(threshold)\n",
    "\n",
    "#img = cv2.imread('../data/individual_abcd/A.png', 0)\n",
    "#img = cv2.resize(img, (IMG_SIZE, IMG_SIZE))\n",
    "# img.shape\n",
    "# img = img.reshape(img.shape[0], img.shape[1], 1)\n",
    "img.shape\n",
    "x = np.expand_dims(img, axis=0)\n",
    "x.shape\n",
    "loaded_model.predict(x)\n",
    "loaded_model.predict(img_to_predict)"
   ]
  },
  {
   "cell_type": "code",
   "execution_count": null,
   "metadata": {},
   "outputs": [],
   "source": []
  }
 ],
 "metadata": {
  "kernelspec": {
   "display_name": "Python [conda env:deep_envs]",
   "language": "python",
   "name": "conda-env-deep_envs-py"
  },
  "language_info": {
   "codemirror_mode": {
    "name": "ipython",
    "version": 3
   },
   "file_extension": ".py",
   "mimetype": "text/x-python",
   "name": "python",
   "nbconvert_exporter": "python",
   "pygments_lexer": "ipython3",
   "version": "3.7.6"
  }
 },
 "nbformat": 4,
 "nbformat_minor": 2
}
