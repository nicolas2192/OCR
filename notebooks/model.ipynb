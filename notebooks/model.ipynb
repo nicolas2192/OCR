{
 "cells": [
  {
   "cell_type": "markdown",
   "metadata": {},
   "source": [
    "# Handwritten Text Recognition - OCR - CNN"
   ]
  },
  {
   "cell_type": "code",
   "execution_count": 1,
   "metadata": {},
   "outputs": [],
   "source": [
    "# Imports\n",
    "import numpy as np\n",
    "import matplotlib.pyplot as plt\n",
    "import os\n",
    "import cv2\n",
    "\n",
    "import random\n",
    "import time\n",
    "\n",
    "import tensorflow as tf\n",
    "from tensorflow.keras.models import Sequential, load_model\n",
    "from tensorflow.keras.layers import Dense, Flatten, Dropout, Activation, Conv2D, MaxPooling2D\n",
    "from tensorflow.keras.callbacks import TensorBoard"
   ]
  },
  {
   "cell_type": "code",
   "execution_count": 2,
   "metadata": {},
   "outputs": [],
   "source": [
    "# Data Acquisition\n",
    "DATA = \"../data/raw\"\n",
    "LETS = list(\"SINO\")\n",
    "NUM_LETS = len(LETS)\n",
    "IMG_SIZE = 100\n",
    "model_path = \"../data/model\"\n",
    "model_name = \"model\""
   ]
  },
  {
   "cell_type": "code",
   "execution_count": 3,
   "metadata": {},
   "outputs": [],
   "source": [
    "# Turns images into black and white\n",
    "def black_and_white(image, threshold):\n",
    "    gray = cv2.cvtColor(image, cv2.COLOR_BGR2GRAY)\n",
    "    thresh = cv2.threshold(gray, threshold, 255, cv2.THRESH_BINARY)[1]\n",
    "    kernel = np.ones((2,2))\n",
    "    closing = cv2.morphologyEx(thresh, cv2.MORPH_CLOSE, kernel)\n",
    "    return closing"
   ]
  },
  {
   "cell_type": "code",
   "execution_count": 4,
   "metadata": {},
   "outputs": [
    {
     "name": "stdout",
     "output_type": "stream",
     "text": [
      "120\n"
     ]
    }
   ],
   "source": [
    "# Loading all letter images, resizing and labeling them\n",
    "def load_letters(path, letters_list, img_size):\n",
    "    letters = []\n",
    "    # Looping through each letter folder\n",
    "    for let in letters_list:\n",
    "        images = os.listdir(os.path.join(path, let))\n",
    "        # Looping through each image within a specific letter folder\n",
    "        for pic in images:\n",
    "            # Reading letter image, turning it to gray scale and resizing it\n",
    "            img = cv2.imread(os.path.join(path, let, pic))\n",
    "            resized = cv2.resize(img, (img_size, img_size))\n",
    "            \n",
    "            thresh = black_and_white(resized, 120)\n",
    "            \n",
    "            # Saving letter image array and target into a list\n",
    "            letters.append([thresh, letters_list.index(let)])\n",
    "            #letters.append([threshold, let])\n",
    "    \n",
    "    return letters\n",
    "        \n",
    "letters = load_letters(DATA, LETS, IMG_SIZE)\n",
    "print(len(letters))"
   ]
  },
  {
   "cell_type": "code",
   "execution_count": 5,
   "metadata": {},
   "outputs": [
    {
     "name": "stdout",
     "output_type": "stream",
     "text": [
      "[['S', 30], ['I', 30], ['N', 30], ['O', 30]]\n"
     ]
    }
   ],
   "source": [
    "# Checking how many images were read per letter\n",
    "def check_loaded_data(loaded_letters_list, individual_letters_list):\n",
    "    y = [target[1] for target in loaded_letters_list]\n",
    "    res = [[letter, y.count(individual_letters_list.index(letter))] for letter in individual_letters_list]\n",
    "    #res = [[letter, y.count(letter)] for letter in individual_letters_list]\n",
    "    print(res)\n",
    "\n",
    "check_loaded_data(letters, LETS)"
   ]
  },
  {
   "cell_type": "code",
   "execution_count": 6,
   "metadata": {},
   "outputs": [
    {
     "name": "stdout",
     "output_type": "stream",
     "text": [
      "120\n"
     ]
    }
   ],
   "source": [
    "# Checking loaded images\n",
    "def shuffle(list_to_shuffle):\n",
    "    random.shuffle(list_to_shuffle)\n",
    "    return list_to_shuffle\n",
    "\n",
    "shuffled = shuffle(letters)\n",
    "print(len(shuffled))"
   ]
  },
  {
   "cell_type": "code",
   "execution_count": 7,
   "metadata": {},
   "outputs": [
    {
     "name": "stdout",
     "output_type": "stream",
     "text": [
      "(120, 100, 100, 1) (120, 4)\n"
     ]
    }
   ],
   "source": [
    "def prep_data(training_data):\n",
    "    \"\"\"\n",
    "    Preparing the data that will be used to feed the model\n",
    "    :param training_data: \n",
    "    :return: \n",
    "    \"\"\"\n",
    "    X, y = [], []\n",
    "    # Splitting data into traning data (X) and its label or target (y)\n",
    "    for features, label in training_data:\n",
    "        X.append(features)\n",
    "        y.append(label)\n",
    "        \n",
    "    # Converting y list into a categorical array, 0 and 1. It will have as many columns as letters to train\n",
    "    y = tf.keras.utils.to_categorical(y, len(LETS))\n",
    "    \n",
    "    # Converting X list into a keras array ready to be used to train the model\n",
    "    X = np.array(X).reshape(-1, IMG_SIZE, IMG_SIZE, 1) # 1 grayscale, 3 colored images\n",
    "    \n",
    "    # Normalizing training data\n",
    "    X = tf.keras.utils.normalize(X, axis=1)\n",
    "    print(X.shape, y.shape)\n",
    "\n",
    "    return X, y\n",
    "\n",
    "X, y = prep_data(shuffled)"
   ]
  },
  {
   "cell_type": "code",
   "execution_count": 8,
   "metadata": {
    "scrolled": false
   },
   "outputs": [
    {
     "name": "stdout",
     "output_type": "stream",
     "text": [
      "OCR-CNN-1586277114\n",
      "Model: \"sequential\"\n",
      "_________________________________________________________________\n",
      "Layer (type)                 Output Shape              Param #   \n",
      "=================================================================\n",
      "conv2d (Conv2D)              (None, 98, 98, 64)        640       \n",
      "_________________________________________________________________\n",
      "max_pooling2d (MaxPooling2D) (None, 49, 49, 64)        0         \n",
      "_________________________________________________________________\n",
      "conv2d_1 (Conv2D)            (None, 47, 47, 64)        36928     \n",
      "_________________________________________________________________\n",
      "max_pooling2d_1 (MaxPooling2 (None, 23, 23, 64)        0         \n",
      "_________________________________________________________________\n",
      "conv2d_2 (Conv2D)            (None, 21, 21, 64)        36928     \n",
      "_________________________________________________________________\n",
      "max_pooling2d_2 (MaxPooling2 (None, 10, 10, 64)        0         \n",
      "_________________________________________________________________\n",
      "flatten (Flatten)            (None, 6400)              0         \n",
      "_________________________________________________________________\n",
      "dense (Dense)                (None, 4)                 25604     \n",
      "=================================================================\n",
      "Total params: 100,100\n",
      "Trainable params: 100,100\n",
      "Non-trainable params: 0\n",
      "_________________________________________________________________\n",
      "Train on 96 samples, validate on 24 samples\n",
      "Epoch 1/10\n",
      "96/96 [==============================] - 2s 24ms/sample - loss: 1.3915 - accuracy: 0.2083 - val_loss: 1.3654 - val_accuracy: 0.4167\n",
      "Epoch 2/10\n",
      "96/96 [==============================] - 2s 17ms/sample - loss: 1.3374 - accuracy: 0.6667 - val_loss: 1.2652 - val_accuracy: 0.6250\n",
      "Epoch 3/10\n",
      "96/96 [==============================] - 2s 23ms/sample - loss: 1.1278 - accuracy: 0.5833 - val_loss: 0.8289 - val_accuracy: 0.9167\n",
      "Epoch 4/10\n",
      "96/96 [==============================] - 2s 17ms/sample - loss: 0.5795 - accuracy: 0.9167 - val_loss: 0.1650 - val_accuracy: 1.0000\n",
      "Epoch 5/10\n",
      "96/96 [==============================] - 2s 23ms/sample - loss: 0.1916 - accuracy: 0.9479 - val_loss: 0.0253 - val_accuracy: 1.0000\n",
      "Epoch 6/10\n",
      "96/96 [==============================] - 2s 19ms/sample - loss: 0.1243 - accuracy: 0.9375 - val_loss: 0.0432 - val_accuracy: 0.9583\n",
      "Epoch 7/10\n",
      "96/96 [==============================] - 1s 16ms/sample - loss: 0.0824 - accuracy: 0.9792 - val_loss: 0.1072 - val_accuracy: 0.9583\n",
      "Epoch 8/10\n",
      "96/96 [==============================] - 1s 15ms/sample - loss: 0.0510 - accuracy: 0.9896 - val_loss: 0.0270 - val_accuracy: 1.0000\n",
      "Epoch 9/10\n",
      "96/96 [==============================] - 2s 20ms/sample - loss: 0.0369 - accuracy: 0.9896 - val_loss: 0.0038 - val_accuracy: 1.0000\n",
      "Epoch 10/10\n",
      "96/96 [==============================] - 2s 16ms/sample - loss: 0.0305 - accuracy: 0.9896 - val_loss: 0.0069 - val_accuracy: 1.0000\n"
     ]
    }
   ],
   "source": [
    "def model_setup(X, y, letters_list):\n",
    "\n",
    "    # Model's name\n",
    "    NAME = f\"OCR-CNN-{int(time.time())}\"\n",
    "    print(NAME)\n",
    "\n",
    "    # Model instantiation and layers definition\n",
    "    model = Sequential() # instatiating the NN\n",
    "\n",
    "    # Adding first 2D convolution layer\n",
    "    model.add(Conv2D(64, (3,3), input_shape=X.shape[1:], activation=\"relu\")) # X.shape[1:] → (100, 100, 1)\n",
    "    model.add(MaxPooling2D(pool_size=(2,2)))\n",
    "\n",
    "    # Adding second 2D convolution layer\n",
    "    model.add(Conv2D(64, (3,3), activation=\"relu\"))# don't have to specify input shape in additional layers.\n",
    "    model.add(MaxPooling2D(pool_size=(2,2)))\n",
    "\n",
    "    # Adding third 2D convolution layer\n",
    "    model.add(Conv2D(64, (3,3), activation=\"relu\"))# don't have to specify input shape in additional layers.\n",
    "    model.add(MaxPooling2D(pool_size=(2,2)))\n",
    "\n",
    "    # Flattening before passing it to the dense layer\n",
    "    model.add(Flatten())\n",
    "\n",
    "    # Adding output layer, as many units as letters there are, activation softmax\n",
    "    model.add(Dense(len(letters_list), activation=\"softmax\"))\n",
    "\n",
    "    # Setting up tensorboard logs\n",
    "    tb = TensorBoard(log_dir=f\"../data/logs/{NAME}\")\n",
    "\n",
    "    # Model parameters\n",
    "    model.compile(optimizer=\"adam\", loss=\"categorical_crossentropy\", metrics=[\"accuracy\"])\n",
    "    \n",
    "    # Model summary\n",
    "    model.summary()\n",
    "    \n",
    "    # Model fitting\n",
    "    hist = model.fit(X, y, batch_size=16, epochs=10, validation_split=0.2, callbacks=[tb])\n",
    "    \n",
    "    return model, hist\n",
    "    \n",
    "model, hist = model_setup(X, y, LETS)"
   ]
  },
  {
   "cell_type": "code",
   "execution_count": 9,
   "metadata": {
    "scrolled": false
   },
   "outputs": [
    {
     "name": "stdout",
     "output_type": "stream",
     "text": [
      "Model perfomance chart was successfully saved at: \n"
     ]
    },
    {
     "data": {
      "image/png": "[encoded data removed]",
      "text/plain": [
       "<Figure size 1080x360 with 2 Axes>"
      ]
     },
     "metadata": {
      "needs_background": "light"
     },
     "output_type": "display_data"
    }
   ],
   "source": [
    "def plot_performance(hist):\n",
    "\n",
    "    fig, axes = plt.subplots(1, 2, figsize=(15,5))\n",
    "    fig.suptitle(\"Model Performance Summary\", fontsize=18)\n",
    "    \n",
    "    x_ticks = np.arange(1, len(hist.history[\"loss\"]) + 1)\n",
    "    \n",
    "    label_font = {\"fontname\" : \"Arial\", \"fontsize\": 13}\n",
    "    title_font = {\"fontname\" : \"Arial\", \"fontsize\": 16}\n",
    "    \n",
    "    axes[0].set_title(\"Loss\", fontdict=title_font)\n",
    "    axes[0].set_xlabel(\"Epoch\", fontdict=label_font)\n",
    "    axes[0].set_xticks(np.arange(len(x_ticks)))\n",
    "    axes[0].set_xticklabels(x_ticks)\n",
    "    axes[0].plot(hist.history[\"loss\"], label=\"Train\")\n",
    "    axes[0].plot(hist.history[\"val_loss\"], label=\"Test\")\n",
    "    axes[0].grid(True, color=\"black\", linewidth=0.1)\n",
    "    axes[0].legend()\n",
    "\n",
    "    axes[1].set_title(\"Accuracy\", fontdict=title_font)\n",
    "    axes[1].set_xlabel(\"Epoch\", fontdict=label_font)\n",
    "    axes[1].set_xticks(np.arange(len(x_ticks)))\n",
    "    axes[1].set_xticklabels(x_ticks)\n",
    "    axes[1].plot(hist.history[\"accuracy\"], label=\"Train\")\n",
    "    axes[1].plot(hist.history[\"val_accuracy\"], label=\"Test\")\n",
    "    axes[1].legend(loc=4)\n",
    "    axes[1].grid(True, color=\"black\", linewidth=0.1)\n",
    "    \n",
    "    try:\n",
    "        plt.savefig(\"performance.png\")\n",
    "        print(\"Model perfomance chart was successfully saved at: \")\n",
    "    except Exception as e:\n",
    "        print(\"Error saving model chart\")\n",
    "\n",
    "plot_performance(hist)"
   ]
  },
  {
   "cell_type": "code",
   "execution_count": 10,
   "metadata": {},
   "outputs": [
    {
     "name": "stdout",
     "output_type": "stream",
     "text": [
      "120/120 [==============================] - 1s 5ms/sample - loss: 0.0224 - accuracy: 0.9917\n"
     ]
    }
   ],
   "source": [
    "loss, acc = model.evaluate(X, y)"
   ]
  },
  {
   "cell_type": "code",
   "execution_count": 11,
   "metadata": {},
   "outputs": [
    {
     "name": "stdout",
     "output_type": "stream",
     "text": [
      "Saved model to ../data/model/model.h5\n",
      "../data/model/model.h5\n",
      "Model loaded successfully\n"
     ]
    }
   ],
   "source": [
    "# saving the model\n",
    "def save_model_h5(model, model_path, model_name):\n",
    "    model.save(os.path.join(model_path, f\"{model_name}.h5\"))\n",
    "    print(f\"Saved model to {model_path}/{model_name}.h5\")\n",
    "    \n",
    "# loading the model\n",
    "def load_model_h5(model_path, model_name):\n",
    "    try:\n",
    "        # Loading H5 file\n",
    "        print(os.path.join(model_path, f\"{model_name}.h5\"))\n",
    "        loaded_model = load_model(os.path.join(model_path, f\"{model_name}.h5\"))\n",
    "        print(\"Model loaded successfully\")\n",
    "        return loaded_model\n",
    "    except  Exception as e:\n",
    "        print(\"Model couldn't be loaded. Did you import keras load_model function?\")\n",
    "\n",
    "save_model_h5(model, model_path, model_name)\n",
    "loaded_model = load_model_h5(model_path, model_name)"
   ]
  },
  {
   "cell_type": "code",
   "execution_count": 12,
   "metadata": {},
   "outputs": [
    {
     "data": {
      "text/plain": [
       "<matplotlib.image.AxesImage at 0x7f949c0a2210>"
      ]
     },
     "execution_count": 12,
     "metadata": {},
     "output_type": "execute_result"
    },
    {
     "name": "stderr",
     "output_type": "stream",
     "text": [
      "/home/nicolas/miniconda3/envs/deep_envs/lib/python3.7/site-packages/matplotlib/text.py:1150: FutureWarning: elementwise comparison failed; returning scalar instead, but in the future will perform elementwise comparison\n",
      "  if s != self._text:\n"
     ]
    },
    {
     "data": {
      "text/plain": [
       "Text(0.5, 1.0, '[[1. 0. 0. 0.]]')"
      ]
     },
     "execution_count": 12,
     "metadata": {},
     "output_type": "execute_result"
    },
    {
     "data": {
      "image/png": "[encoded data removed]",
      "text/plain": [
       "<Figure size 432x288 with 1 Axes>"
      ]
     },
     "metadata": {
      "needs_background": "light"
     },
     "output_type": "display_data"
    },
    {
     "name": "stdout",
     "output_type": "stream",
     "text": [
      "(1, 100, 100, 1)\n"
     ]
    },
    {
     "data": {
      "text/plain": [
       "<matplotlib.image.AxesImage at 0x7f9483bccfd0>"
      ]
     },
     "execution_count": 12,
     "metadata": {},
     "output_type": "execute_result"
    },
    {
     "data": {
      "text/plain": [
       "Text(0.5, 1.0, '[[0. 1. 0. 0.]]')"
      ]
     },
     "execution_count": 12,
     "metadata": {},
     "output_type": "execute_result"
    },
    {
     "data": {
      "image/png": "[encoded data removed]",
      "text/plain": [
       "<Figure size 432x288 with 1 Axes>"
      ]
     },
     "metadata": {
      "needs_background": "light"
     },
     "output_type": "display_data"
    },
    {
     "name": "stdout",
     "output_type": "stream",
     "text": [
      "(1, 100, 100, 1)\n"
     ]
    },
    {
     "data": {
      "text/plain": [
       "<matplotlib.image.AxesImage at 0x7f94f2f90610>"
      ]
     },
     "execution_count": 12,
     "metadata": {},
     "output_type": "execute_result"
    },
    {
     "data": {
      "text/plain": [
       "Text(0.5, 1.0, '[[0. 0. 1. 0.]]')"
      ]
     },
     "execution_count": 12,
     "metadata": {},
     "output_type": "execute_result"
    },
    {
     "data": {
      "image/png": "[encoded data removed]",
      "text/plain": [
       "<Figure size 432x288 with 1 Axes>"
      ]
     },
     "metadata": {
      "needs_background": "light"
     },
     "output_type": "display_data"
    },
    {
     "name": "stdout",
     "output_type": "stream",
     "text": [
      "(1, 100, 100, 1)\n"
     ]
    },
    {
     "data": {
      "text/plain": [
       "<matplotlib.image.AxesImage at 0x7f94f0370990>"
      ]
     },
     "execution_count": 12,
     "metadata": {},
     "output_type": "execute_result"
    },
    {
     "data": {
      "text/plain": [
       "Text(0.5, 1.0, '[[0. 0. 0. 1.]]')"
      ]
     },
     "execution_count": 12,
     "metadata": {},
     "output_type": "execute_result"
    },
    {
     "data": {
      "image/png": "[encoded data removed]",
      "text/plain": [
       "<Figure size 432x288 with 1 Axes>"
      ]
     },
     "metadata": {
      "needs_background": "light"
     },
     "output_type": "display_data"
    },
    {
     "name": "stdout",
     "output_type": "stream",
     "text": [
      "(1, 100, 100, 1)\n"
     ]
    }
   ],
   "source": [
    "testpath = \"../data/test\"\n",
    "testimages = os.listdir(testpath)\n",
    "for test in testimages:\n",
    "    img = cv2.imread(os.path.join(testpath, test))\n",
    "    gray = cv2.cvtColor(img, cv2.COLOR_BGR2GRAY)\n",
    "    resized = cv2.resize(gray, (IMG_SIZE, IMG_SIZE))\n",
    "    _, threshold = cv2.threshold(resized, 130, 255, cv2.THRESH_BINARY)\n",
    "\n",
    "    plt.imshow(threshold, cmap=\"gray\")\n",
    "    \n",
    "    threshold = np.array(threshold).reshape(-1, IMG_SIZE, IMG_SIZE, 1)\n",
    "    \n",
    "    p = model.predict(threshold)\n",
    "    plt.title(p)\n",
    "    plt.show()\n",
    "    print(threshold.shape)"
   ]
  },
  {
   "cell_type": "code",
   "execution_count": null,
   "metadata": {},
   "outputs": [],
   "source": []
  },
  {
   "cell_type": "code",
   "execution_count": null,
   "metadata": {},
   "outputs": [],
   "source": []
  },
  {
   "cell_type": "code",
   "execution_count": null,
   "metadata": {},
   "outputs": [],
   "source": []
  }
 ],
 "metadata": {
  "kernelspec": {
   "display_name": "Python [conda env:deep_envs]",
   "language": "python",
   "name": "conda-env-deep_envs-py"
  },
  "language_info": {
   "codemirror_mode": {
    "name": "ipython",
    "version": 3
   },
   "file_extension": ".py",
   "mimetype": "text/x-python",
   "name": "python",
   "nbconvert_exporter": "python",
   "pygments_lexer": "ipython3",
   "version": "3.7.6"
  }
 },
 "nbformat": 4,
 "nbformat_minor": 2
}
