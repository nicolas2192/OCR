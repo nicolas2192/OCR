{
 "cells": [
  {
   "cell_type": "markdown",
   "metadata": {},
   "source": [
    "# Handwritten Text Recognition - OCR - CNN"
   ]
  },
  {
   "cell_type": "code",
   "execution_count": 50,
   "metadata": {},
   "outputs": [],
   "source": [
    "# Imports\n",
    "import numpy as np\n",
    "import matplotlib.pyplot as plt\n",
    "import os\n",
    "import cv2\n",
    "\n",
    "import random\n",
    "import time\n",
    "\n",
    "import tensorflow as tf\n",
    "from tensorflow.keras.models import Sequential\n",
    "from tensorflow.keras.layers import Dense, Flatten, Dropout, Activation, Conv2D, MaxPooling2D\n",
    "from tensorflow.keras.callbacks import TensorBoard"
   ]
  },
  {
   "cell_type": "code",
   "execution_count": 51,
   "metadata": {},
   "outputs": [],
   "source": [
    "# Data Acquisition\n",
    "DATA = \"../data/raw\"\n",
    "LETS = list(\"SINO\")\n",
    "NUM_LETS = len(LETS)\n",
    "IMG_SIZE = 100"
   ]
  },
  {
   "cell_type": "code",
   "execution_count": 52,
   "metadata": {},
   "outputs": [
    {
     "name": "stdout",
     "output_type": "stream",
     "text": [
      "120\n"
     ]
    }
   ],
   "source": [
    "# Loading all letter images, resizing and labeling them\n",
    "def load_letters(path, letters_list):\n",
    "    letters = []\n",
    "    # Looping through each letter folder\n",
    "    for let in letters_list:\n",
    "        images = os.listdir(os.path.join(path, let))\n",
    "        # Looping through each image within a specific letter folder\n",
    "        for pic in images:\n",
    "            # Reading letter image, turning it to gray scale and resizing it\n",
    "            img = cv2.imread(os.path.join(path, let, pic))\n",
    "            gray = cv2.cvtColor(img, cv2.COLOR_BGR2GRAY)\n",
    "            resized = cv2.resize(gray, (IMG_SIZE, IMG_SIZE))\n",
    "            \n",
    "            # Saving letter image array and target into a list\n",
    "            letters.append([resized, letters_list.index(let)])\n",
    "    \n",
    "    return letters\n",
    "        \n",
    "letters = load_letters(DATA, LETS)\n",
    "print(len(letters))"
   ]
  },
  {
   "cell_type": "code",
   "execution_count": 53,
   "metadata": {},
   "outputs": [
    {
     "name": "stdout",
     "output_type": "stream",
     "text": [
      "[['S', 30], ['I', 30], ['N', 30], ['O', 30]]\n"
     ]
    }
   ],
   "source": [
    "# Checking how many images were read per letter\n",
    "def check_loaded_data(loaded_letters_list, individual_letters_list):\n",
    "    y = [target[1] for target in loaded_letters_list]\n",
    "    res = [[letter, y.count(individual_letters_list.index(letter))] for letter in individual_letters_list]\n",
    "    print(res)\n",
    "\n",
    "check_loaded_data(letters, LETS)"
   ]
  },
  {
   "cell_type": "code",
   "execution_count": 54,
   "metadata": {},
   "outputs": [
    {
     "name": "stdout",
     "output_type": "stream",
     "text": [
      "120\n"
     ]
    }
   ],
   "source": [
    "# Checking loaded images\n",
    "def shuffle(list_to_shuffle):\n",
    "    random.shuffle(list_to_shuffle)\n",
    "    return list_to_shuffle\n",
    "\n",
    "shuffled = shuffle(letters)\n",
    "print(len(shuffled))"
   ]
  },
  {
   "cell_type": "code",
   "execution_count": 55,
   "metadata": {},
   "outputs": [
    {
     "name": "stdout",
     "output_type": "stream",
     "text": [
      "120\n",
      "2\n",
      "[[159 159 159 ... 165 166 167]\n",
      " [159 159 159 ... 165 166 167]\n",
      " [159 159 159 ... 165 166 167]\n",
      " ...\n",
      " [159 159 159 ... 166 166 166]\n",
      " [159 159 159 ... 163 164 166]\n",
      " [159 159 159 ... 164 165 166]]\n"
     ]
    }
   ],
   "source": [
    "# Splitting training data with its correspondent label\n",
    "def split_xy(training_data):\n",
    "    X, y = [], []\n",
    "    for features, label in training_data:\n",
    "        X.append(features)\n",
    "        y.append(label)\n",
    "\n",
    "    return X, y\n",
    "\n",
    "X, y = split_xy(shuffled)\n",
    "\n",
    "print(len(X))\n",
    "print(y[0])\n",
    "print(X[0])"
   ]
  },
  {
   "cell_type": "code",
   "execution_count": 56,
   "metadata": {
    "scrolled": true
   },
   "outputs": [
    {
     "name": "stdout",
     "output_type": "stream",
     "text": [
      "[[0. 0. 1. 0.]\n",
      " [1. 0. 0. 0.]\n",
      " [0. 0. 1. 0.]\n",
      " [0. 0. 1. 0.]\n",
      " [0. 0. 0. 1.]\n",
      " [0. 1. 0. 0.]\n",
      " [0. 0. 1. 0.]\n",
      " [0. 0. 1. 0.]\n",
      " [0. 0. 1. 0.]\n",
      " [1. 0. 0. 0.]\n",
      " [0. 1. 0. 0.]\n",
      " [0. 0. 1. 0.]\n",
      " [1. 0. 0. 0.]\n",
      " [0. 0. 1. 0.]\n",
      " [0. 1. 0. 0.]\n",
      " [0. 0. 0. 1.]\n",
      " [1. 0. 0. 0.]\n",
      " [1. 0. 0. 0.]\n",
      " [0. 1. 0. 0.]\n",
      " [1. 0. 0. 0.]\n",
      " [0. 1. 0. 0.]\n",
      " [0. 0. 0. 1.]\n",
      " [0. 0. 0. 1.]\n",
      " [1. 0. 0. 0.]\n",
      " [0. 1. 0. 0.]\n",
      " [0. 0. 1. 0.]\n",
      " [0. 0. 1. 0.]\n",
      " [0. 0. 1. 0.]\n",
      " [1. 0. 0. 0.]\n",
      " [0. 1. 0. 0.]\n",
      " [1. 0. 0. 0.]\n",
      " [1. 0. 0. 0.]\n",
      " [0. 0. 0. 1.]\n",
      " [0. 0. 1. 0.]\n",
      " [0. 0. 1. 0.]\n",
      " [0. 0. 0. 1.]\n",
      " [0. 0. 0. 1.]\n",
      " [0. 0. 1. 0.]\n",
      " [0. 0. 0. 1.]\n",
      " [1. 0. 0. 0.]\n",
      " [0. 1. 0. 0.]\n",
      " [0. 0. 0. 1.]\n",
      " [1. 0. 0. 0.]\n",
      " [0. 1. 0. 0.]\n",
      " [1. 0. 0. 0.]\n",
      " [0. 1. 0. 0.]\n",
      " [0. 1. 0. 0.]\n",
      " [0. 0. 1. 0.]\n",
      " [0. 0. 1. 0.]\n",
      " [0. 0. 0. 1.]\n",
      " [0. 1. 0. 0.]\n",
      " [1. 0. 0. 0.]\n",
      " [0. 0. 0. 1.]\n",
      " [0. 1. 0. 0.]\n",
      " [0. 0. 0. 1.]\n",
      " [0. 0. 1. 0.]\n",
      " [0. 0. 0. 1.]\n",
      " [0. 0. 1. 0.]\n",
      " [1. 0. 0. 0.]\n",
      " [0. 1. 0. 0.]\n",
      " [0. 0. 0. 1.]\n",
      " [0. 0. 0. 1.]\n",
      " [0. 1. 0. 0.]\n",
      " [1. 0. 0. 0.]\n",
      " [0. 0. 0. 1.]\n",
      " [0. 0. 1. 0.]\n",
      " [0. 0. 0. 1.]\n",
      " [0. 1. 0. 0.]\n",
      " [0. 0. 1. 0.]\n",
      " [0. 1. 0. 0.]\n",
      " [1. 0. 0. 0.]\n",
      " [0. 1. 0. 0.]\n",
      " [1. 0. 0. 0.]\n",
      " [0. 0. 1. 0.]\n",
      " [0. 0. 0. 1.]\n",
      " [0. 1. 0. 0.]\n",
      " [0. 0. 1. 0.]\n",
      " [0. 0. 0. 1.]\n",
      " [0. 1. 0. 0.]\n",
      " [0. 0. 0. 1.]\n",
      " [0. 0. 0. 1.]\n",
      " [0. 0. 0. 1.]\n",
      " [0. 0. 1. 0.]\n",
      " [0. 0. 1. 0.]\n",
      " [0. 0. 0. 1.]\n",
      " [0. 0. 0. 1.]\n",
      " [0. 1. 0. 0.]\n",
      " [0. 0. 0. 1.]\n",
      " [1. 0. 0. 0.]\n",
      " [1. 0. 0. 0.]\n",
      " [0. 1. 0. 0.]\n",
      " [1. 0. 0. 0.]\n",
      " [0. 0. 1. 0.]\n",
      " [0. 1. 0. 0.]\n",
      " [1. 0. 0. 0.]\n",
      " [1. 0. 0. 0.]\n",
      " [0. 1. 0. 0.]\n",
      " [0. 0. 0. 1.]\n",
      " [0. 1. 0. 0.]\n",
      " [0. 0. 0. 1.]\n",
      " [0. 0. 1. 0.]\n",
      " [1. 0. 0. 0.]\n",
      " [0. 1. 0. 0.]\n",
      " [1. 0. 0. 0.]\n",
      " [0. 0. 1. 0.]\n",
      " [1. 0. 0. 0.]\n",
      " [0. 0. 1. 0.]\n",
      " [0. 1. 0. 0.]\n",
      " [0. 0. 1. 0.]\n",
      " [0. 0. 0. 1.]\n",
      " [0. 0. 1. 0.]\n",
      " [0. 1. 0. 0.]\n",
      " [1. 0. 0. 0.]\n",
      " [0. 0. 0. 1.]\n",
      " [1. 0. 0. 0.]\n",
      " [0. 1. 0. 0.]\n",
      " [1. 0. 0. 0.]\n",
      " [1. 0. 0. 0.]\n",
      " [0. 0. 0. 1.]\n",
      " [0. 1. 0. 0.]]\n",
      "(120, 4)\n"
     ]
    }
   ],
   "source": [
    "# Converting y list into a categorical array, 0 and 1\n",
    "y = tf.keras.utils.to_categorical(y, NUM_LETS)\n",
    "print(y)\n",
    "print(y.shape)"
   ]
  },
  {
   "cell_type": "code",
   "execution_count": 57,
   "metadata": {},
   "outputs": [
    {
     "name": "stdout",
     "output_type": "stream",
     "text": [
      "(120, 100, 100, 1) (120, 4)\n"
     ]
    }
   ],
   "source": [
    "# Turning lists into arrays\n",
    "#print(len(X), len(y))\n",
    "X = np.array(X).reshape(-1, IMG_SIZE, IMG_SIZE, 1) # 1 grayscale, 3 colored images\n",
    "#y = np.array(y)\n",
    "print(X.shape, y.shape)"
   ]
  },
  {
   "cell_type": "code",
   "execution_count": 58,
   "metadata": {},
   "outputs": [
    {
     "name": "stdout",
     "output_type": "stream",
     "text": [
      "(120, 100, 100, 1)\n"
     ]
    }
   ],
   "source": [
    "# Normalizing the training data\n",
    "X = tf.keras.utils.normalize(X, axis=1)\n",
    "print(X.shape)"
   ]
  },
  {
   "cell_type": "code",
   "execution_count": 59,
   "metadata": {},
   "outputs": [
    {
     "name": "stdout",
     "output_type": "stream",
     "text": [
      "OCR-CNN-1585988495\n"
     ]
    }
   ],
   "source": [
    "# Model's name\n",
    "NAME = f\"OCR-CNN-{int(time.time())}\"\n",
    "print(NAME)\n",
    "\n",
    "# Model instantiation and layers definition\n",
    "model = Sequential() # instatiating the NN\n",
    "\n",
    "# Adding first 2D convolution layer\n",
    "model.add(Conv2D(64, (3,3), input_shape=X.shape[1:], activation=\"relu\")) # X.shape[1:] → (100, 100, 1)\n",
    "model.add(MaxPooling2D(pool_size=(2,2)))\n",
    "\n",
    "# Adding second 2D convolution layer\n",
    "model.add(Conv2D(64, (3,3), activation=\"relu\"))# don't have to specify input shape in additional layers.\n",
    "model.add(MaxPooling2D(pool_size=(2,2)))\n",
    "\n",
    "# Adding third 2D convolution layer\n",
    "model.add(Conv2D(64, (3,3), activation=\"relu\"))# don't have to specify input shape in additional layers.\n",
    "model.add(MaxPooling2D(pool_size=(2,2)))\n",
    "          \n",
    "# Adding flattened dense layer\n",
    "model.add(Flatten())\n",
    "          \n",
    "# Adding output layer, 4 unit, activation softmax\n",
    "model.add(Dense(NUM_LETS))\n",
    "model.add(Activation(\"softmax\"))\n",
    "\n",
    "# Setting up tensorboard logs\n",
    "tb = TensorBoard(log_dir=f\"../data/logs/{NAME}\")\n",
    "          \n",
    "# Model parameters\n",
    "model.compile(optimizer=\"adam\", loss=\"categorical_crossentropy\", metrics=[\"accuracy\"])"
   ]
  },
  {
   "cell_type": "code",
   "execution_count": 60,
   "metadata": {},
   "outputs": [
    {
     "name": "stdout",
     "output_type": "stream",
     "text": [
      "Train on 96 samples, validate on 24 samples\n",
      "Epoch 1/10\n",
      "96/96 [==============================] - 2s 17ms/sample - loss: 1.3983 - accuracy: 0.1250 - val_loss: 1.3865 - val_accuracy: 0.2083\n",
      "Epoch 2/10\n",
      "96/96 [==============================] - 1s 11ms/sample - loss: 1.3859 - accuracy: 0.2604 - val_loss: 1.3856 - val_accuracy: 0.2083\n",
      "Epoch 3/10\n",
      "96/96 [==============================] - 1s 11ms/sample - loss: 1.3823 - accuracy: 0.2604 - val_loss: 1.3826 - val_accuracy: 0.2500\n",
      "Epoch 4/10\n",
      "96/96 [==============================] - 1s 11ms/sample - loss: 1.3731 - accuracy: 0.3229 - val_loss: 1.3665 - val_accuracy: 0.2500\n",
      "Epoch 5/10\n",
      "96/96 [==============================] - 1s 12ms/sample - loss: 1.3356 - accuracy: 0.5312 - val_loss: 1.3134 - val_accuracy: 0.4583\n",
      "Epoch 6/10\n",
      "96/96 [==============================] - 1s 11ms/sample - loss: 1.2057 - accuracy: 0.7812 - val_loss: 1.1377 - val_accuracy: 0.7500\n",
      "Epoch 7/10\n",
      "96/96 [==============================] - 1s 12ms/sample - loss: 0.9560 - accuracy: 0.8750 - val_loss: 0.8893 - val_accuracy: 0.7500\n",
      "Epoch 8/10\n",
      "96/96 [==============================] - 1s 11ms/sample - loss: 0.5663 - accuracy: 0.9792 - val_loss: 0.5389 - val_accuracy: 0.8750\n",
      "Epoch 9/10\n",
      "96/96 [==============================] - 1s 12ms/sample - loss: 0.2776 - accuracy: 0.9688 - val_loss: 0.2732 - val_accuracy: 0.9167\n",
      "Epoch 10/10\n",
      "96/96 [==============================] - 1s 12ms/sample - loss: 0.1092 - accuracy: 1.0000 - val_loss: 0.1613 - val_accuracy: 0.9167\n"
     ]
    },
    {
     "data": {
      "text/plain": [
       "<tensorflow.python.keras.callbacks.History at 0x7faf9053c210>"
      ]
     },
     "execution_count": 60,
     "metadata": {},
     "output_type": "execute_result"
    }
   ],
   "source": [
    "# Model fitting\n",
    "model.fit(X, y, batch_size=16, epochs=10, validation_split=0.2, callbacks=[tb])"
   ]
  },
  {
   "cell_type": "code",
   "execution_count": 61,
   "metadata": {},
   "outputs": [
    {
     "name": "stdout",
     "output_type": "stream",
     "text": [
      "120/120 [==============================] - 0s 3ms/sample - loss: 0.0771 - accuracy: 0.9833\n"
     ]
    }
   ],
   "source": [
    "loss, acc = model.evaluate(X, y)"
   ]
  },
  {
   "cell_type": "code",
   "execution_count": 62,
   "metadata": {},
   "outputs": [
    {
     "data": {
      "text/plain": [
       "<matplotlib.image.AxesImage at 0x7faf466ca3d0>"
      ]
     },
     "execution_count": 62,
     "metadata": {},
     "output_type": "execute_result"
    },
    {
     "name": "stdout",
     "output_type": "stream",
     "text": [
      "[[1.1037573e-31 1.0000000e+00 0.0000000e+00 0.0000000e+00]\n",
      " [4.1336697e-32 1.0000000e+00 0.0000000e+00 0.0000000e+00]\n",
      " [6.0884829e-33 1.0000000e+00 0.0000000e+00 0.0000000e+00]]\n"
     ]
    },
    {
     "data": {
      "image/png": "[encoded data removed]",
      "text/plain": [
       "<Figure size 432x288 with 1 Axes>"
      ]
     },
     "metadata": {
      "needs_background": "light"
     },
     "output_type": "display_data"
    },
    {
     "data": {
      "text/plain": [
       "<matplotlib.image.AxesImage at 0x7faf4667bc10>"
      ]
     },
     "execution_count": 62,
     "metadata": {},
     "output_type": "execute_result"
    },
    {
     "name": "stdout",
     "output_type": "stream",
     "text": [
      "[[5.5745876e-33 1.0000000e+00 0.0000000e+00 0.0000000e+00]\n",
      " [5.6557258e-33 1.0000000e+00 0.0000000e+00 0.0000000e+00]\n",
      " [3.7484432e-34 1.0000000e+00 0.0000000e+00 0.0000000e+00]]\n"
     ]
    },
    {
     "data": {
      "image/png": "[encoded data removed]",
      "text/plain": [
       "<Figure size 432x288 with 1 Axes>"
      ]
     },
     "metadata": {
      "needs_background": "light"
     },
     "output_type": "display_data"
    },
    {
     "data": {
      "text/plain": [
       "<matplotlib.image.AxesImage at 0x7faf446072d0>"
      ]
     },
     "execution_count": 62,
     "metadata": {},
     "output_type": "execute_result"
    },
    {
     "name": "stdout",
     "output_type": "stream",
     "text": [
      "[[1.4076389e-33 1.0000000e+00 0.0000000e+00 0.0000000e+00]\n",
      " [2.4749248e-34 1.0000000e+00 0.0000000e+00 0.0000000e+00]\n",
      " [7.1593260e-35 1.0000000e+00 0.0000000e+00 0.0000000e+00]]\n"
     ]
    },
    {
     "data": {
      "image/png": "[encoded data removed]",
      "text/plain": [
       "<Figure size 432x288 with 1 Axes>"
      ]
     },
     "metadata": {
      "needs_background": "light"
     },
     "output_type": "display_data"
    },
    {
     "data": {
      "text/plain": [
       "<matplotlib.image.AxesImage at 0x7faf465b3f50>"
      ]
     },
     "execution_count": 62,
     "metadata": {},
     "output_type": "execute_result"
    },
    {
     "name": "stdout",
     "output_type": "stream",
     "text": [
      "[[2.6577310e-33 1.0000000e+00 0.0000000e+00 0.0000000e+00]\n",
      " [2.9005530e-34 1.0000000e+00 0.0000000e+00 0.0000000e+00]\n",
      " [1.0294377e-34 1.0000000e+00 0.0000000e+00 0.0000000e+00]]\n"
     ]
    },
    {
     "data": {
      "image/png": "[encoded data removed]",
      "text/plain": [
       "<Figure size 432x288 with 1 Axes>"
      ]
     },
     "metadata": {
      "needs_background": "light"
     },
     "output_type": "display_data"
    }
   ],
   "source": [
    "testpath = \"../data/test\"\n",
    "testimages = os.listdir(testpath)\n",
    "for test in testimages:\n",
    "    img = cv2.imread(os.path.join(testpath, test), 1)\n",
    "    img = cv2.resize(img, (IMG_SIZE, IMG_SIZE))\n",
    "    plt.imshow(img, cmap=\"gray\")\n",
    "    img = np.array(img).reshape(-1, IMG_SIZE, IMG_SIZE, 1) \n",
    "    p = model.predict(img)\n",
    "    print(p)\n",
    "    plt.show()"
   ]
  },
  {
   "cell_type": "code",
   "execution_count": 31,
   "metadata": {},
   "outputs": [
    {
     "data": {
      "text/plain": [
       "'/home/nicolas/Reps/OCR/notebooks'"
      ]
     },
     "execution_count": 31,
     "metadata": {},
     "output_type": "execute_result"
    }
   ],
   "source": [
    "pwd"
   ]
  },
  {
   "cell_type": "code",
   "execution_count": null,
   "metadata": {},
   "outputs": [],
   "source": []
  },
  {
   "cell_type": "code",
   "execution_count": null,
   "metadata": {},
   "outputs": [],
   "source": []
  },
  {
   "cell_type": "code",
   "execution_count": null,
   "metadata": {},
   "outputs": [],
   "source": []
  },
  {
   "cell_type": "code",
   "execution_count": null,
   "metadata": {},
   "outputs": [],
   "source": []
  }
 ],
 "metadata": {
  "kernelspec": {
   "display_name": "Python [conda env:deep_envs]",
   "language": "python",
   "name": "conda-env-deep_envs-py"
  },
  "language_info": {
   "codemirror_mode": {
    "name": "ipython",
    "version": 3
   },
   "file_extension": ".py",
   "mimetype": "text/x-python",
   "name": "python",
   "nbconvert_exporter": "python",
   "pygments_lexer": "ipython3",
   "version": "3.7.6"
  }
 },
 "nbformat": 4,
 "nbformat_minor": 2
}
