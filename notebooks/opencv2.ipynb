{
 "cells": [
  {
   "cell_type": "code",
   "execution_count": 2,
   "metadata": {},
   "outputs": [],
   "source": [
    "import cv2\n",
    "import matplotlib.pyplot as plt\n",
    "import numpy as np"
   ]
  },
  {
   "cell_type": "code",
   "execution_count": 3,
   "metadata": {},
   "outputs": [
    {
     "data": {
      "image/png": "[encoded data removed]",
      "text/plain": [
       "<Figure size 432x288 with 1 Axes>"
      ]
     },
     "metadata": {
      "needs_background": "light"
     },
     "output_type": "display_data"
    }
   ],
   "source": [
    "img = cv2.imread(\"test.png\")\n",
    "gray = cv2.cvtColor(img, cv2.COLOR_BGR2GRAY)\n",
    "\n",
    "ret, thresh = cv2.threshold(gray, 15, 255, cv2.THRESH_BINARY)\n",
    "kernel = np.ones((5,5),np.uint8)\n",
    "erosion = cv2.erode(thresh, kernel, iterations = 1)\n",
    "\n",
    "opening = cv2.morphologyEx(erosion, cv2.MORPH_OPEN, kernel)\n",
    "closing = cv2.morphologyEx(opening, cv2.MORPH_CLOSE, kernel)\n",
    "\n",
    "plt.imshow(closing, \"gray\")\n",
    "\n",
    "contours, hierarchy = cv2.findContours(closing,cv2.RETR_TREE,cv2.CHAIN_APPROX_SIMPLE)\n",
    "areas = [] #list to hold all areas\n",
    "\n",
    "for contour in contours:\n",
    "    ar= cv2.contourArea(contour)\n",
    "    areas.append(ar)\n",
    "\n",
    "max_area = max(areas)\n",
    "max_area_index = areas.index(max_area) #index of the list element with largest area\n",
    "\n",
    "cnt = contours[max_area_index] #largest area contour\n",
    "\n",
    "cv2.drawContours(closing, [cnt], 0, (255, 255, 255), 3, maxLevel = 0)\n",
    "cv2.imshow('cleaner', closing)\n",
    "cv2.waitKey(0)\n",
    "cv2.destroyAllWindows()"
   ]
  },
  {
   "cell_type": "code",
   "execution_count": null,
   "metadata": {},
   "outputs": [],
   "source": [
    "img = cv2.imread(\"test.png\")\n",
    "#img = cv2.resize(img, (int(img.shape[1]/2), int(img.shape[0]/2)))\n",
    "gray = cv2.cvtColor(img, cv2.COLOR_BGR2GRAY)\n",
    "\n",
    "ret, thresh = cv2.threshold(gray, 15, 255, cv2.THRESH_BINARY)\n",
    "kernel = np.ones((5,5),np.uint8)\n",
    "erosion = cv2.erode(thresh, kernel, iterations = 1)\n",
    "\n",
    "opening = cv2.morphologyEx(erosion, cv2.MORPH_OPEN, kernel)\n",
    "closing = cv2.morphologyEx(opening, cv2.MORPH_CLOSE, kernel)\n",
    "\n",
    "contours, hierarchy = cv2.findContours(closing,cv2.RETR_TREE,cv2.CHAIN_APPROX_SIMPLE)\n",
    "\n",
    "areas = []\n",
    "for contour in contours:\n",
    "    ar = cv2.contourArea(contour)\n",
    "    areas.append(ar)\n",
    "\n",
    "max_area = max(areas)\n",
    "max_area_index = areas.index(max_area)\n",
    "    \n",
    "cnt = contours[max_area_index] #largest area contour\n",
    "\n",
    "cv2.drawContours(closing, [cnt], 0, (255, 255, 255), 3, maxLevel = 0)\n",
    "cv2.imshow('cleaner', closing)\n",
    "\n",
    "cv2.waitKey(0)\n",
    "cv2.destroyAllWindows()"
   ]
  },
  {
   "cell_type": "code",
   "execution_count": null,
   "metadata": {},
   "outputs": [],
   "source": []
  },
  {
   "cell_type": "code",
   "execution_count": 4,
   "metadata": {},
   "outputs": [
    {
     "ename": "error",
     "evalue": "OpenCV(4.2.0) ../modules/core/src/arithm.cpp:250: error: (-215:Assertion failed) (mtype == CV_8U || mtype == CV_8S) && _mask.sameSize(*psrc1) in function 'binary_op'\n",
     "output_type": "error",
     "traceback": [
      "\u001b[0;31m---------------------------------------------------------------------------\u001b[0m",
      "\u001b[0;31merror\u001b[0m                                     Traceback (most recent call last)",
      "\u001b[0;32m<ipython-input-4-02eb2f9af786>\u001b[0m in \u001b[0;36m<module>\u001b[0;34m\u001b[0m\n\u001b[1;32m     10\u001b[0m \u001b[0mmask_inv\u001b[0m \u001b[0;34m=\u001b[0m \u001b[0mcv2\u001b[0m\u001b[0;34m.\u001b[0m\u001b[0mbitwise_not\u001b[0m\u001b[0;34m(\u001b[0m\u001b[0mmask\u001b[0m\u001b[0;34m)\u001b[0m\u001b[0;34m\u001b[0m\u001b[0;34m\u001b[0m\u001b[0m\n\u001b[1;32m     11\u001b[0m \u001b[0;34m\u001b[0m\u001b[0m\n\u001b[0;32m---> 12\u001b[0;31m \u001b[0mb_bg\u001b[0m \u001b[0;34m=\u001b[0m \u001b[0mcv2\u001b[0m\u001b[0;34m.\u001b[0m\u001b[0mbitwise_and\u001b[0m\u001b[0;34m(\u001b[0m\u001b[0mroi\u001b[0m\u001b[0;34m,\u001b[0m \u001b[0mroi\u001b[0m\u001b[0;34m,\u001b[0m \u001b[0mmask\u001b[0m\u001b[0;34m=\u001b[0m\u001b[0mmask_inv\u001b[0m\u001b[0;34m)\u001b[0m\u001b[0;34m\u001b[0m\u001b[0;34m\u001b[0m\u001b[0m\n\u001b[0m\u001b[1;32m     13\u001b[0m \u001b[0mc_fg\u001b[0m \u001b[0;34m=\u001b[0m \u001b[0mcv2\u001b[0m\u001b[0;34m.\u001b[0m\u001b[0mbitwise_and\u001b[0m\u001b[0;34m(\u001b[0m\u001b[0mc\u001b[0m\u001b[0;34m,\u001b[0m \u001b[0mc\u001b[0m\u001b[0;34m,\u001b[0m \u001b[0mmask\u001b[0m\u001b[0;34m=\u001b[0m\u001b[0mmask\u001b[0m\u001b[0;34m)\u001b[0m\u001b[0;34m\u001b[0m\u001b[0;34m\u001b[0m\u001b[0m\n\u001b[1;32m     14\u001b[0m \u001b[0;34m\u001b[0m\u001b[0m\n",
      "\u001b[0;31merror\u001b[0m: OpenCV(4.2.0) ../modules/core/src/arithm.cpp:250: error: (-215:Assertion failed) (mtype == CV_8U || mtype == CV_8S) && _mask.sameSize(*psrc1) in function 'binary_op'\n"
     ]
    }
   ],
   "source": [
    "b = cv2.imread(\"../beach.png\")\n",
    "c = cv2.imread(\"../crab.png\")\n",
    "\n",
    "rows, cols, chan = c.shape\n",
    "roi = b[280:rows, 500:cols]\n",
    "\n",
    "img_gray = cv2.cvtColor(c, cv2.COLOR_BGR2GRAY)\n",
    "ret, mask = cv2.threshold(img_gray, 200, 255, cv2.THRESH_BINARY_INV)\n",
    "\n",
    "mask_inv = cv2.bitwise_not(mask)\n",
    "\n",
    "b_bg = cv2.bitwise_and(roi, roi, mask=mask_inv)\n",
    "c_fg = cv2.bitwise_and(c, c, mask=mask)\n",
    "\n",
    "dst = cv2.add(b_bg, c_fg)\n",
    "b[280:rows, 500:cols] = dst\n",
    "\n",
    "\n",
    "cv2.imshow(\"b\", cv2.resize(b, (int(b.shape[1]/2), int(b.shape[0]/2))))\n",
    "cv2.imshow(\"Image\", dst)\n",
    "cv2.waitKey(0)\n",
    "cv2.destroyAllWindows()"
   ]
  },
  {
   "cell_type": "code",
   "execution_count": null,
   "metadata": {},
   "outputs": [],
   "source": [
    "print(c.shape)"
   ]
  },
  {
   "cell_type": "code",
   "execution_count": null,
   "metadata": {},
   "outputs": [],
   "source": [
    "cv2.waitKey(0)\n",
    "cv2.destroyAllWindows()"
   ]
  },
  {
   "cell_type": "code",
   "execution_count": null,
   "metadata": {},
   "outputs": [],
   "source": []
  },
  {
   "cell_type": "code",
   "execution_count": null,
   "metadata": {},
   "outputs": [],
   "source": [
    "def contraste():                                    # funcion para pasar imagen a blanco y negro \n",
    "\timage=cv2.imread('captura.png')                 # lee la captura de imagen         \n",
    "\tim=cv2.cvtColor(image,cv2.COLOR_BGR2GRAY)       # pasa a escala de grises\n",
    "\tim=(255-im)                                     # foto en negativo\n",
    "\tumbral=170\n",
    "\timg=np.zeros(shape=im.shape)                    # pasa a blanco y negro puros (umbral en 170)\n",
    "\tfor i in range(im.shape[0]):\n",
    "\t\tfor j in range(im.shape[1]):\n",
    "\t\t\tif im[i][j]>umbral: img[i][j]=255\n",
    "\t\t\telse: img[i][j]=0\n",
    "\t#cv2.imshow('img', img)                          # muestra la imagen\n",
    "\tcv2.imwrite('b&w.png', img)                     # guarda imagen en blanco y negro\n",
    "\tcv2.waitKey(1)     "
   ]
  },
  {
   "cell_type": "code",
   "execution_count": null,
   "metadata": {},
   "outputs": [],
   "source": [
    "def contorno():                                     # funcion captura de contorno, captura letras\n",
    "\tumbral_fino=10                                  # umbral fino para deteccion de contornos\n",
    "\timage=cv2.imread('b&w.png')                     # lee la imagen\n",
    "\tim=cv2.cvtColor(image,cv2.COLOR_BGR2GRAY)       # pasa a grises\n",
    "\tim=(255-im)                                     # pasa a negativo\n",
    "\tthresh=cv2.adaptiveThreshold(im, 255, cv2.ADAPTIVE_THRESH_GAUSSIAN_C, cv2.THRESH_BINARY_INV, 11, 2)      # umbral adaptativo\n",
    "\trect_kernel=cv2.getStructuringElement(cv2.MORPH_RECT, (30, 10))                                          # elemento estructural (rectangular) \n",
    "\tthreshed=cv2.morphologyEx(thresh, cv2.MORPH_CLOSE, rect_kernel)                                          # transformacion morfologica\n",
    "\tcontorno, _ =cv2.findContours(threshed, cv2.RETR_EXTERNAL, cv2.CHAIN_APPROX_SIMPLE)                      # encuentra los contornos\n",
    "\ts_contorno=sorted(contorno, key=lambda x: cv2.boundingRect(x)[1]+cv2.boundingRect(x)[0]*image.shape[1])  # ordena por orden lateral (y+xh)\n",
    "\tidx=0\n",
    "\tfor cnt in s_contorno:                                   # contornos\n",
    "\t\tidx+=1\n",
    "\t\tx, y, w, h=cv2.boundingRect(cnt)\n",
    "\t\troi=im[y:y+h, x:x+w]                                 # region de interes\n",
    "\t\tif h<umbral_fino or w<umbral_fino:\n",
    "\t\t\tcontinue\n",
    "\t\tcv2.imwrite(str(idx) + '.png', roi)\n",
    "\t\tcv2.rectangle(im, (x, y), (x+w, y+h), (200, 0, 0), 2)\n",
    "\t#cv2.imshow('imagen B-N', im)\n",
    "\tcv2.waitKey(1)\n",
    "\treturn idx"
   ]
  },
  {
   "cell_type": "code",
   "execution_count": null,
   "metadata": {},
   "outputs": [],
   "source": [
    "img = cv2.imread(\"nico.jpeg\")\n",
    "img = cv2.resize(img, (int(img.shape[1]/2), int(img.shape[0]/2)))\n",
    "gray = cv2.cvtColor(img, cv2.COLOR_BGR2GRAY)\n",
    "gray = (255-gray)\n",
    "thresh = cv2.adaptiveThreshold(gray, 255, cv2.ADAPTIVE_THRESH_GAUSSIAN_C, cv2.THRESH_BINARY_INV, 11, 2) \n",
    "rect_kernel=cv2.getStructuringElement(cv2.MORPH_RECT, (30, 10)) \n",
    "threshed=cv2.morphologyEx(thresh, cv2.MORPH_CLOSE, rect_kernel)\n",
    "contorno, _ =cv2.findContours(threshed, cv2.RETR_EXTERNAL, cv2.CHAIN_APPROX_SIMPLE)                      # encuentra los contornos\n",
    "s_contorno=sorted(contorno, key=lambda x: cv2.boundingRect(x)[1]+cv2.boundingRect(x)[0]*img.shape[1])\n",
    "\n",
    "umbral_fino=10\n",
    "idx=0\n",
    "for cnt in s_contorno:                                   # contornos\n",
    "    idx+=1\n",
    "    x, y, w, h=cv2.boundingRect(cnt)\n",
    "    roi=img[y:y+h, x:x+w]                                 # region de interes\n",
    "    if h<umbral_fino or w<umbral_fino:\n",
    "        continue\n",
    "    cv2.imwrite(str(idx) + '.png', roi)\n",
    "    cv2.rectangle(img, (x, y), (x+w, y+h), (200, 0, 0), 2)\n",
    "\n",
    "\n",
    "# cv2.imshow(\"Nico\", contorno)\n",
    "# cv2.waitKey(0)\n",
    "# cv2.destroyAllWindows()"
   ]
  },
  {
   "cell_type": "code",
   "execution_count": null,
   "metadata": {},
   "outputs": [],
   "source": [
    "s_contorno"
   ]
  },
  {
   "cell_type": "code",
   "execution_count": null,
   "metadata": {},
   "outputs": [],
   "source": []
  },
  {
   "cell_type": "code",
   "execution_count": null,
   "metadata": {},
   "outputs": [],
   "source": []
  },
  {
   "cell_type": "code",
   "execution_count": null,
   "metadata": {},
   "outputs": [],
   "source": []
  },
  {
   "cell_type": "code",
   "execution_count": null,
   "metadata": {},
   "outputs": [],
   "source": []
  },
  {
   "cell_type": "code",
   "execution_count": null,
   "metadata": {},
   "outputs": [],
   "source": []
  },
  {
   "cell_type": "code",
   "execution_count": null,
   "metadata": {},
   "outputs": [],
   "source": []
  },
  {
   "cell_type": "code",
   "execution_count": null,
   "metadata": {},
   "outputs": [],
   "source": []
  },
  {
   "cell_type": "code",
   "execution_count": null,
   "metadata": {},
   "outputs": [],
   "source": []
  },
  {
   "cell_type": "code",
   "execution_count": null,
   "metadata": {},
   "outputs": [],
   "source": []
  },
  {
   "cell_type": "code",
   "execution_count": null,
   "metadata": {},
   "outputs": [],
   "source": []
  },
  {
   "cell_type": "code",
   "execution_count": null,
   "metadata": {},
   "outputs": [],
   "source": []
  }
 ],
 "metadata": {
  "kernelspec": {
   "display_name": "Python [conda env:cv2]",
   "language": "python",
   "name": "conda-env-cv2-py"
  },
  "language_info": {
   "codemirror_mode": {
    "name": "ipython",
    "version": 3
   },
   "file_extension": ".py",
   "mimetype": "text/x-python",
   "name": "python",
   "nbconvert_exporter": "python",
   "pygments_lexer": "ipython3",
   "version": "3.7.7"
  }
 },
 "nbformat": 4,
 "nbformat_minor": 2
}
