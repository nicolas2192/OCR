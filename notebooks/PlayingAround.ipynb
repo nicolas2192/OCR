{
 "cells": [
  {
   "cell_type": "code",
   "execution_count": 2,
   "metadata": {},
   "outputs": [],
   "source": [
    "import cv2\n",
    "import numpy as np"
   ]
  },
  {
   "cell_type": "code",
   "execution_count": 7,
   "metadata": {},
   "outputs": [
    {
     "data": {
      "text/plain": [
       "101"
      ]
     },
     "execution_count": 7,
     "metadata": {},
     "output_type": "execute_result"
    }
   ],
   "source": [
    "img1 = np.zeros([250, 500, 3])\n",
    "img1 = cv2.rectangle(img1, (200, 0), (300, 100), (255, 255, 255), -1)\n",
    "img2 = np.zeros([250, 500, 3])\n",
    "img2 = cv2.rectangle(img2, (0, 0), (250, 250), (255, 0, 255), -1)\n",
    "\n",
    "bitAnd = cv2.bitwise_and(img1, img2)\n",
    "bitOr = cv2.bitwise_or(img1, img2)\n",
    "bitXor = cv2.bitwise_xor(img1, img2)\n",
    "bitNot = cv2.bitwise_not(img1)\n",
    "\n",
    "cv2.imshow(\"Image 1\", img1)\n",
    "cv2.imshow(\"Image 2\", img2)\n",
    "cv2.imshow(\"Bitwise And\", bitAnd)\n",
    "cv2.imshow(\"Bitwise Or\", bitOr)\n",
    "cv2.imshow(\"Bitwise Xor\", bitXor)\n",
    "cv2.imshow(\"Bitwise Not\", bitNot)\n",
    "\n",
    "cv2.waitKey(0)\n",
    "cv2.destroyAllWindows()"
   ]
  },
  {
   "cell_type": "code",
   "execution_count": 22,
   "metadata": {},
   "outputs": [],
   "source": [
    "cv2.namedWindow(\"Window 1\")\n",
    "img1 = np.zeros([250, 500, 3])\n",
    "\n",
    "def nothing(x):\n",
    "    pass\n",
    "\n",
    "cv2.createTrackbar(\"B\", \"Window 1\", 0, 255, nothing)\n",
    "cv2.createTrackbar(\"G\", \"Window 1\", 0, 255, nothing)\n",
    "cv2.createTrackbar(\"R\", \"Window 1\", 0, 255, nothing)\n",
    "\n",
    "while(1):\n",
    "    cv2.imshow(\"Window 1\", img1)\n",
    "    if cv2.waitKey(1) == 27:\n",
    "        break\n",
    "    \n",
    "    b = cv2.getTrackbarPos(\"B\", \"Window 1\")\n",
    "    g = cv2.getTrackbarPos(\"G\", \"Window 1\")\n",
    "    r = cv2.getTrackbarPos(\"R\", \"Window 1\")\n",
    "\n",
    "    img1[:] = [b, g, r]\n",
    "\n",
    "cv2.destroyAllWindows()"
   ]
  },
  {
   "cell_type": "code",
   "execution_count": 13,
   "metadata": {},
   "outputs": [
    {
     "data": {
      "text/plain": [
       "114"
      ]
     },
     "execution_count": 13,
     "metadata": {},
     "output_type": "execute_result"
    }
   ],
   "source": [
    "cv2.waitKey(0)\n",
    "cv2.destroyAllWindows()"
   ]
  },
  {
   "cell_type": "code",
   "execution_count": null,
   "metadata": {},
   "outputs": [],
   "source": []
  },
  {
   "cell_type": "code",
   "execution_count": null,
   "metadata": {},
   "outputs": [],
   "source": []
  },
  {
   "cell_type": "code",
   "execution_count": null,
   "metadata": {},
   "outputs": [],
   "source": []
  }
 ],
 "metadata": {
  "kernelspec": {
   "display_name": "Python [conda env:cv2]",
   "language": "python",
   "name": "conda-env-cv2-py"
  },
  "language_info": {
   "codemirror_mode": {
    "name": "ipython",
    "version": 3
   },
   "file_extension": ".py",
   "mimetype": "text/x-python",
   "name": "python",
   "nbconvert_exporter": "python",
   "pygments_lexer": "ipython3",
   "version": "3.7.7"
  }
 },
 "nbformat": 4,
 "nbformat_minor": 2
}
