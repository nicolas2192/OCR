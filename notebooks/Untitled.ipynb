{
 "cells": [
  {
   "cell_type": "code",
   "execution_count": 1,
   "metadata": {},
   "outputs": [],
   "source": [
    "import cv2\n",
    "import numpy as np"
   ]
  },
  {
   "cell_type": "code",
   "execution_count": null,
   "metadata": {},
   "outputs": [],
   "source": [
    "img = cv2.imread(\"n.jpeg\")\n",
    "img = cv2.resize(img, (int(img.shape[1]/3), int(img.shape[0]/3)))\n",
    "gray = cv2.cvtColor(img, cv2.COLOR_BGR2GRAY)"
   ]
  },
  {
   "cell_type": "code",
   "execution_count": null,
   "metadata": {},
   "outputs": [],
   "source": [
    "cv2.imshow(\"nico\", img)\n",
    "cv2.waitKey(0)\n",
    "cv2.destroyAllWindows()"
   ]
  },
  {
   "cell_type": "code",
   "execution_count": null,
   "metadata": {},
   "outputs": [],
   "source": [
    "# Values below 120 will be 0 (black) while those above the threshold will be 255 (white)\n",
    "retval, threshold = cv2.threshold(gray, 120, 255, cv2.THRESH_BINARY)\n",
    "cv2.imshow(\"Threshold Image\", threshold)\n",
    "cv2.waitKey(0)\n",
    "cv2.destroyAllWindows()"
   ]
  },
  {
   "cell_type": "code",
   "execution_count": null,
   "metadata": {},
   "outputs": [],
   "source": [
    "gaus = cv2.adaptiveThreshold(gray, 255, cv2.ADAPTIVE_THRESH_GAUSSIAN_C, cv2.THRESH_BINARY, 115, 1)\n",
    "cv2.imshow(\"Gaussian Image\", gaus)\n",
    "cv2.waitKey(0)\n",
    "cv2.destroyAllWindows()"
   ]
  },
  {
   "cell_type": "code",
   "execution_count": null,
   "metadata": {
    "scrolled": true
   },
   "outputs": [],
   "source": [
    "img = cv2.imread(\"n.jpeg\")\n",
    "img = cv2.resize(img, (int(img.shape[1]/3), int(img.shape[0]/3)))\n",
    "gray = cv2.cvtColor(img, cv2.COLOR_BGR2GRAY)\n",
    "_, thresh = cv2.threshold(gray, 100, 255, cv2.THRESH_BINARY)\n",
    "contours, _ = cv2.findContours(thresh, cv2.RETR_TREE, cv2.CHAIN_APPROX_NONE)\n",
    "\n",
    "for contour in contours:\n",
    "    (x, y, w, h) = cv2.boundingRect(contour)\n",
    "    print(x, y, w, h)\n",
    "    \n",
    "    if cv2.contourArea(contour) < 300:\n",
    "        continue\n",
    "    \n",
    "    else:\n",
    "        cv2.rectangle(img, (x,y), (x+w, y+h), (0, 255, 0), 3)\n",
    "        cv2.putText(img, f\"C: {contours.index(contour)}\", (x, y), cv2.FONT_HERSHEY_SIMPLEX, 1, (0, 255, 0), 2)\n",
    "\n",
    "#cv2.drawContours(img, contours, 0, (0,255,0), 3)\n",
    "\n",
    "cv2.imshow(\"Threshold Image\", img)\n",
    "cv2.waitKey(0)\n",
    "cv2.destroyAllWindows()\n",
    "print(len(contours))"
   ]
  },
  {
   "cell_type": "code",
   "execution_count": null,
   "metadata": {
    "scrolled": true
   },
   "outputs": [],
   "source": [
    "# Dummy function to use in trackbar function\n",
    "def nothing(x):\n",
    "    pass\n",
    "\n",
    "# Setting trackbar window\n",
    "cv2.namedWindow(\"Tracking\")\n",
    "cv2.createTrackbar(\"LowHue\", \"Tracking\", 0, 255, nothing)\n",
    "cv2.createTrackbar(\"LowSat\", \"Tracking\", 0, 255, nothing)\n",
    "cv2.createTrackbar(\"LowVal\", \"Tracking\", 0, 255, nothing)\n",
    "cv2.createTrackbar(\"UpHue\", \"Tracking\", 255, 255, nothing)\n",
    "cv2.createTrackbar(\"UpSat\", \"Tracking\", 255, 255, nothing)\n",
    "cv2.createTrackbar(\"UpVal\", \"Tracking\", 255, 255, nothing)\n",
    "\n",
    "while True:\n",
    "    frame = cv2.imread(\"nico.jpeg\")\n",
    "    frame = cv2.resize(frame, (int(frame.shape[1]/3), int(frame.shape[0]/3)))\n",
    "    hsv = cv2.cvtColor(frame, cv2.COLOR_BGR2HSV)\n",
    "    \n",
    "    l_h = cv2.getTrackbarPos(\"LowHue\", \"Tracking\")\n",
    "    l_s = cv2.getTrackbarPos(\"LowSat\", \"Tracking\")\n",
    "    l_v = cv2.getTrackbarPos(\"LowVal\", \"Tracking\")    \n",
    "    u_h = cv2.getTrackbarPos(\"UpHue\", \"Tracking\")\n",
    "    u_s = cv2.getTrackbarPos(\"UpSat\", \"Tracking\")\n",
    "    u_v = cv2.getTrackbarPos(\"UpVal\", \"Tracking\")\n",
    "    \n",
    "    # Color we are interested in. We have to define the colors range spectrum in a HSV format\n",
    "    # np.array([Hue, Saturation, Value])\n",
    "    lower = np.array([l_h, l_s, l_v])\n",
    "    upper = np.array([u_h, u_s, u_v])\n",
    "    \n",
    "    # Mask, its a binary object used to check if the color is whithin the range.\n",
    "    # Pixel will be white if true, black otherwise.\n",
    "    mask = cv2.inRange(hsv, lower, upper)\n",
    "    \n",
    "    # We use the bitwise_and function to show only those pixels that match the mask\n",
    "    res = cv2.bitwise_and(frame, frame, mask=mask)\n",
    "    \n",
    "    cv2.imshow(\"frame\", frame)\n",
    "    cv2.imshow(\"mask\", mask)\n",
    "    cv2.imshow(\"res\", res)\n",
    "    \n",
    "    # break the loop pressing ESC ( ASCII 27 )\n",
    "    key = cv2.waitKey(1)\n",
    "    if key == 27:\n",
    "        break\n",
    "    \n",
    "cv2.destroyAllWindows()"
   ]
  },
  {
   "cell_type": "code",
   "execution_count": 5,
   "metadata": {},
   "outputs": [
    {
     "data": {
      "text/plain": [
       "array([[0, 0, 0, ..., 0, 0, 0],\n",
       "       [0, 0, 0, ..., 0, 0, 0],\n",
       "       [0, 0, 0, ..., 0, 0, 0],\n",
       "       ...,\n",
       "       [0, 0, 0, ..., 0, 0, 0],\n",
       "       [0, 0, 0, ..., 0, 0, 0],\n",
       "       [0, 0, 0, ..., 0, 0, 0]], dtype=uint8)"
      ]
     },
     "execution_count": 5,
     "metadata": {},
     "output_type": "execute_result"
    }
   ],
   "source": [
    "def load_image(img_path):\n",
    "    original = cv2.imread(img_path)\n",
    "    cv2.imshow(\"test\", original)\n",
    "    frame = cv2.resize(original, (int(original.shape[1]/2), int(original.shape[0]/2)))\n",
    "    hsv = cv2.cvtColor(frame, cv2.COLOR_BGR2HSV)\n",
    "    \n",
    "    # Color we are interested in. We have to define the colors range spectrum in a HSV format\n",
    "    # np.array([Hue, Saturation, Value])\n",
    "    lower = np.array([110, 50, 0])\n",
    "    upper = np.array([255, 255, 255])\n",
    "    \n",
    "    # Mask, its a binary object used to check if the color is whithin the range.\n",
    "    # Pixel will be white if true, black otherwise.\n",
    "    mask = cv2.inRange(hsv, lower, upper)\n",
    "    \n",
    "    # We use the bitwise_and function to show only those pixels that match the mask\n",
    "    res = cv2.bitwise_and(frame, frame, mask=mask)\n",
    "    \n",
    "    cv2.imshow(\"frame\", frame)\n",
    "    cv2.imshow(\"mask\", mask)\n",
    "    cv2.imshow(\"res\", res)\n",
    "    \n",
    "    # Destroy all windows by pressing ESC ( ASCII 27 )\n",
    "    key = cv2.waitKey(1)\n",
    "    if key == 27:\n",
    "        cv2.destroyAllWindows()\n",
    "        \n",
    "    return mask\n",
    "\n",
    "load_image(\"n.jpeg\")"
   ]
  },
  {
   "cell_type": "code",
   "execution_count": 6,
   "metadata": {},
   "outputs": [
    {
     "data": {
      "text/plain": [
       "113"
      ]
     },
     "execution_count": 6,
     "metadata": {},
     "output_type": "execute_result"
    }
   ],
   "source": [
    "cv2.waitKey(0)\n",
    "cv2.destroyAllWindows()"
   ]
  },
  {
   "cell_type": "code",
   "execution_count": null,
   "metadata": {},
   "outputs": [],
   "source": [
    "image = \"n.jpeg\"\n",
    "original = cv2.imread(image)\n",
    "resized = cv2.resize(original, (int(original.shape[1]/2), int(original.shape[0]/2)))\n",
    "image_mask = load_image(original)\n",
    "\n",
    "_, thresh = cv2.threshold(image_mask, 120, 255, cv2.THRESH_BINARY)\n",
    "contours, _ = cv2.findContours(thresh, cv2.RETR_TREE, cv2.CHAIN_APPROX_NONE)\n",
    "print(f\"Contours: {str(len(contours))}\")\n",
    "\n",
    "cv2.drawContours(resized, contours, -1, (0, 255, 0), 3)\n",
    "\n",
    "cv2.imshow(\"Original Image\", resized)\n",
    "cv2.waitKey(0)\n",
    "cv2.destroyAllWindows()"
   ]
  },
  {
   "cell_type": "code",
   "execution_count": 21,
   "metadata": {},
   "outputs": [
    {
     "name": "stdout",
     "output_type": "stream",
     "text": [
      "Contours: 4\n"
     ]
    },
    {
     "data": {
      "text/plain": [
       "array([[[152, 160, 167],\n",
       "        [153, 161, 168],\n",
       "        [154, 162, 169],\n",
       "        ...,\n",
       "        [ 88,  83,  84],\n",
       "        [ 88,  83,  84],\n",
       "        [ 88,  83,  84]],\n",
       "\n",
       "       [[155, 163, 170],\n",
       "        [156, 164, 171],\n",
       "        [156, 164, 171],\n",
       "        ...,\n",
       "        [ 88,  83,  84],\n",
       "        [ 88,  83,  84],\n",
       "        [ 88,  83,  84]],\n",
       "\n",
       "       [[151, 161, 168],\n",
       "        [153, 163, 170],\n",
       "        [153, 163, 170],\n",
       "        ...,\n",
       "        [ 88,  83,  84],\n",
       "        [ 88,  83,  84],\n",
       "        [ 88,  83,  84]],\n",
       "\n",
       "       ...,\n",
       "\n",
       "       [[124, 136, 146],\n",
       "        [124, 136, 146],\n",
       "        [124, 136, 146],\n",
       "        ...,\n",
       "        [112, 120, 127],\n",
       "        [110, 118, 125],\n",
       "        [108, 116, 123]],\n",
       "\n",
       "       [[123, 135, 145],\n",
       "        [122, 134, 144],\n",
       "        [120, 132, 142],\n",
       "        ...,\n",
       "        [112, 120, 127],\n",
       "        [111, 119, 126],\n",
       "        [109, 117, 124]],\n",
       "\n",
       "       [[152, 160, 167],\n",
       "        [155, 163, 170],\n",
       "        [154, 162, 169],\n",
       "        ...,\n",
       "        [ 89,  84,  85],\n",
       "        [ 89,  84,  85],\n",
       "        [ 89,  84,  85]]], dtype=uint8)"
      ]
     },
     "execution_count": 21,
     "metadata": {},
     "output_type": "execute_result"
    },
    {
     "data": {
      "text/plain": [
       "101"
      ]
     },
     "execution_count": 21,
     "metadata": {},
     "output_type": "execute_result"
    }
   ],
   "source": [
    "original = cv2.imread(\"n.jpeg\")\n",
    "\n",
    "frame = cv2.resize(original, (int(original.shape[1]/3), int(original.shape[0]/3)))\n",
    "hsv = cv2.cvtColor(frame, cv2.COLOR_BGR2HSV)\n",
    "\n",
    "# Color we are interested in. We have to define the colors range spectrum in a HSV format\n",
    "# np.array([Hue, Saturation, Value])\n",
    "lower = np.array([110, 50, 0])\n",
    "upper = np.array([255, 255, 255])\n",
    "\n",
    "# Mask, its a binary object used to check if the color is whithin the range.\n",
    "# Pixel will be white if true, black otherwise.\n",
    "mask = cv2.inRange(hsv, lower, upper)\n",
    "\n",
    "# We use the bitwise_and function to show only those pixels that match the mask\n",
    "res = cv2.bitwise_and(frame, frame, mask=mask)\n",
    "\n",
    "_, thresh = cv2.threshold(mask, 120, 255, cv2.THRESH_BINARY)\n",
    "contours, _ = cv2.findContours(thresh, cv2.RETR_EXTERNAL, cv2.CHAIN_APPROX_NONE)\n",
    "print(f\"Contours: {str(len(contours))}\")\n",
    "\n",
    "cv2.drawContours(frame, contours, -1, (0, 255, 0), 3)\n",
    "\n",
    "cv2.imshow(\"Original\", frame)\n",
    "cv2.imshow(\"Mask\", mask)\n",
    "\n",
    "cv2.waitKey(0)\n",
    "cv2.destroyAllWindows()"
   ]
  },
  {
   "cell_type": "code",
   "execution_count": 28,
   "metadata": {},
   "outputs": [
    {
     "data": {
      "text/plain": [
       "53"
      ]
     },
     "execution_count": 28,
     "metadata": {},
     "output_type": "execute_result"
    }
   ],
   "source": [
    "x, y, width, height = cv2.boundingRect(contours[1])\n",
    "roi = mask[y-5:y+height+5, x-5:x+width+5]\n",
    "cv2.imshow(\"letter\", roi)\n",
    "cv2.waitKey(0)\n",
    "cv2.destroyAllWindows()"
   ]
  },
  {
   "cell_type": "code",
   "execution_count": null,
   "metadata": {},
   "outputs": [],
   "source": []
  },
  {
   "cell_type": "code",
   "execution_count": null,
   "metadata": {},
   "outputs": [],
   "source": []
  },
  {
   "cell_type": "code",
   "execution_count": null,
   "metadata": {},
   "outputs": [],
   "source": []
  },
  {
   "cell_type": "code",
   "execution_count": null,
   "metadata": {},
   "outputs": [],
   "source": []
  },
  {
   "cell_type": "code",
   "execution_count": null,
   "metadata": {},
   "outputs": [],
   "source": []
  },
  {
   "cell_type": "code",
   "execution_count": null,
   "metadata": {},
   "outputs": [],
   "source": []
  }
 ],
 "metadata": {
  "kernelspec": {
   "display_name": "Python [conda env:cv2]",
   "language": "python",
   "name": "conda-env-cv2-py"
  },
  "language_info": {
   "codemirror_mode": {
    "name": "ipython",
    "version": 3
   },
   "file_extension": ".py",
   "mimetype": "text/x-python",
   "name": "python",
   "nbconvert_exporter": "python",
   "pygments_lexer": "ipython3",
   "version": "3.7.7"
  }
 },
 "nbformat": 4,
 "nbformat_minor": 2
}
